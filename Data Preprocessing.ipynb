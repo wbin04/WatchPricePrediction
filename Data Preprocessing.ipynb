{
 "cells": [
  {
   "cell_type": "code",
   "execution_count": 2,
   "metadata": {
    "executionInfo": {
     "elapsed": 3752,
     "status": "ok",
     "timestamp": 1746196856292,
     "user": {
      "displayName": "Huy Nguyễn",
      "userId": "12056843051819236081"
     },
     "user_tz": -420
    },
    "id": "EKiTwFYb7o3O"
   },
   "outputs": [],
   "source": [
    "import pandas as pd\n",
    "import numpy as np\n",
    "import matplotlib.pyplot as plt\n",
    "import seaborn as sns"
   ]
  },
  {
   "cell_type": "code",
   "execution_count": 3,
   "metadata": {
    "executionInfo": {
     "elapsed": 1370,
     "status": "ok",
     "timestamp": 1746196880644,
     "user": {
      "displayName": "Huy Nguyễn",
      "userId": "12056843051819236081"
     },
     "user_tz": -420
    },
    "id": "kCT6evlI73I8"
   },
   "outputs": [],
   "source": [
    "df = pd.read_csv('datasets/Luxury watch.csv')"
   ]
  },
  {
   "cell_type": "code",
   "execution_count": 4,
   "metadata": {
    "colab": {
     "base_uri": "https://localhost:8080/"
    },
    "executionInfo": {
     "elapsed": 20,
     "status": "ok",
     "timestamp": 1746196880677,
     "user": {
      "displayName": "Huy Nguyễn",
      "userId": "12056843051819236081"
     },
     "user_tz": -420
    },
    "id": "ffNg4QcWFGUn",
    "outputId": "455bfd30-a617-41a6-c924-607f98bffe61"
   },
   "outputs": [
    {
     "name": "stdout",
     "output_type": "stream",
     "text": [
      "<class 'pandas.core.frame.DataFrame'>\n",
      "RangeIndex: 507 entries, 0 to 506\n",
      "Data columns (total 14 columns):\n",
      " #   Column               Non-Null Count  Dtype  \n",
      "---  ------               --------------  -----  \n",
      " 0   Brand                507 non-null    object \n",
      " 1   Model                507 non-null    object \n",
      " 2   Case Material        507 non-null    object \n",
      " 3   Strap Material       507 non-null    object \n",
      " 4   Movement Type        507 non-null    object \n",
      " 5   Water Resistance     507 non-null    object \n",
      " 6   Case Diameter (mm)   507 non-null    float64\n",
      " 7   Case Thickness (mm)  507 non-null    float64\n",
      " 8   Band Width (mm)      507 non-null    float64\n",
      " 9   Dial Color           507 non-null    object \n",
      " 10  Crystal Material     507 non-null    object \n",
      " 11  Complications        385 non-null    object \n",
      " 12  Power Reserve        493 non-null    object \n",
      " 13  Price (USD)          506 non-null    object \n",
      "dtypes: float64(3), object(11)\n",
      "memory usage: 55.6+ KB\n",
      "None\n"
     ]
    }
   ],
   "source": [
    "print(df.info())"
   ]
  },
  {
   "cell_type": "code",
   "execution_count": 5,
   "metadata": {
    "colab": {
     "base_uri": "https://localhost:8080/",
     "height": 293
    },
    "executionInfo": {
     "elapsed": 140,
     "status": "ok",
     "timestamp": 1746196880830,
     "user": {
      "displayName": "Huy Nguyễn",
      "userId": "12056843051819236081"
     },
     "user_tz": -420
    },
    "id": "_U7qe6tT74wR",
    "outputId": "6bd16853-a2ef-44be-f143-ae983c21ab7e"
   },
   "outputs": [
    {
     "data": {
      "text/html": [
       "<div>\n",
       "<style scoped>\n",
       "    .dataframe tbody tr th:only-of-type {\n",
       "        vertical-align: middle;\n",
       "    }\n",
       "\n",
       "    .dataframe tbody tr th {\n",
       "        vertical-align: top;\n",
       "    }\n",
       "\n",
       "    .dataframe thead th {\n",
       "        text-align: right;\n",
       "    }\n",
       "</style>\n",
       "<table border=\"1\" class=\"dataframe\">\n",
       "  <thead>\n",
       "    <tr style=\"text-align: right;\">\n",
       "      <th></th>\n",
       "      <th>Brand</th>\n",
       "      <th>Model</th>\n",
       "      <th>Case Material</th>\n",
       "      <th>Strap Material</th>\n",
       "      <th>Movement Type</th>\n",
       "      <th>Water Resistance</th>\n",
       "      <th>Case Diameter (mm)</th>\n",
       "      <th>Case Thickness (mm)</th>\n",
       "      <th>Band Width (mm)</th>\n",
       "      <th>Dial Color</th>\n",
       "      <th>Crystal Material</th>\n",
       "      <th>Complications</th>\n",
       "      <th>Power Reserve</th>\n",
       "      <th>Price (USD)</th>\n",
       "    </tr>\n",
       "  </thead>\n",
       "  <tbody>\n",
       "    <tr>\n",
       "      <th>0</th>\n",
       "      <td>Rolex</td>\n",
       "      <td>Submariner</td>\n",
       "      <td>Stainless Steel</td>\n",
       "      <td>Stainless Steel</td>\n",
       "      <td>Automatic</td>\n",
       "      <td>300 meters</td>\n",
       "      <td>40.0</td>\n",
       "      <td>13.00</td>\n",
       "      <td>20.0</td>\n",
       "      <td>Black</td>\n",
       "      <td>Sapphire</td>\n",
       "      <td>Date</td>\n",
       "      <td>48 hours</td>\n",
       "      <td>9,500</td>\n",
       "    </tr>\n",
       "    <tr>\n",
       "      <th>1</th>\n",
       "      <td>Omega</td>\n",
       "      <td>Seamaster</td>\n",
       "      <td>Titanium</td>\n",
       "      <td>Rubber</td>\n",
       "      <td>Automatic</td>\n",
       "      <td>600 meters</td>\n",
       "      <td>43.5</td>\n",
       "      <td>14.47</td>\n",
       "      <td>21.0</td>\n",
       "      <td>Blue</td>\n",
       "      <td>Sapphire</td>\n",
       "      <td>Date</td>\n",
       "      <td>60 hours</td>\n",
       "      <td>5,800</td>\n",
       "    </tr>\n",
       "    <tr>\n",
       "      <th>2</th>\n",
       "      <td>Tag Heuer</td>\n",
       "      <td>Carrera</td>\n",
       "      <td>Stainless Steel</td>\n",
       "      <td>Leather</td>\n",
       "      <td>Automatic</td>\n",
       "      <td>100 meters</td>\n",
       "      <td>41.0</td>\n",
       "      <td>13.00</td>\n",
       "      <td>20.0</td>\n",
       "      <td>White</td>\n",
       "      <td>Sapphire</td>\n",
       "      <td>Chronograph</td>\n",
       "      <td>42 hours</td>\n",
       "      <td>4,200</td>\n",
       "    </tr>\n",
       "    <tr>\n",
       "      <th>3</th>\n",
       "      <td>Breitling</td>\n",
       "      <td>Navitimer</td>\n",
       "      <td>Stainless Steel</td>\n",
       "      <td>Stainless Steel</td>\n",
       "      <td>Automatic</td>\n",
       "      <td>30 meters</td>\n",
       "      <td>43.0</td>\n",
       "      <td>14.25</td>\n",
       "      <td>22.0</td>\n",
       "      <td>Black</td>\n",
       "      <td>Sapphire</td>\n",
       "      <td>Chronograph</td>\n",
       "      <td>70 hours</td>\n",
       "      <td>7,900</td>\n",
       "    </tr>\n",
       "    <tr>\n",
       "      <th>4</th>\n",
       "      <td>Cartier</td>\n",
       "      <td>Tank Solo</td>\n",
       "      <td>Stainless Steel</td>\n",
       "      <td>Leather</td>\n",
       "      <td>Quartz</td>\n",
       "      <td>30 meters</td>\n",
       "      <td>31.0</td>\n",
       "      <td>6.05</td>\n",
       "      <td>20.0</td>\n",
       "      <td>Silver</td>\n",
       "      <td>Sapphire</td>\n",
       "      <td>NaN</td>\n",
       "      <td>NaN</td>\n",
       "      <td>2,800</td>\n",
       "    </tr>\n",
       "  </tbody>\n",
       "</table>\n",
       "</div>"
      ],
      "text/plain": [
       "       Brand       Model    Case Material   Strap Material Movement Type  \\\n",
       "0      Rolex  Submariner  Stainless Steel  Stainless Steel     Automatic   \n",
       "1      Omega   Seamaster         Titanium           Rubber     Automatic   \n",
       "2  Tag Heuer     Carrera  Stainless Steel          Leather     Automatic   \n",
       "3  Breitling   Navitimer  Stainless Steel  Stainless Steel     Automatic   \n",
       "4    Cartier   Tank Solo  Stainless Steel          Leather        Quartz   \n",
       "\n",
       "  Water Resistance  Case Diameter (mm)  Case Thickness (mm)  Band Width (mm)  \\\n",
       "0       300 meters                40.0                13.00             20.0   \n",
       "1       600 meters                43.5                14.47             21.0   \n",
       "2       100 meters                41.0                13.00             20.0   \n",
       "3        30 meters                43.0                14.25             22.0   \n",
       "4        30 meters                31.0                 6.05             20.0   \n",
       "\n",
       "  Dial Color Crystal Material Complications Power Reserve Price (USD)  \n",
       "0      Black         Sapphire          Date      48 hours       9,500  \n",
       "1       Blue         Sapphire          Date      60 hours       5,800  \n",
       "2      White         Sapphire   Chronograph      42 hours       4,200  \n",
       "3      Black         Sapphire   Chronograph      70 hours       7,900  \n",
       "4     Silver         Sapphire           NaN           NaN       2,800  "
      ]
     },
     "execution_count": 5,
     "metadata": {},
     "output_type": "execute_result"
    }
   ],
   "source": [
    "df.head()"
   ]
  },
  {
   "cell_type": "code",
   "execution_count": 6,
   "metadata": {
    "colab": {
     "base_uri": "https://localhost:8080/",
     "height": 887
    },
    "executionInfo": {
     "elapsed": 18,
     "status": "ok",
     "timestamp": 1746196880846,
     "user": {
      "displayName": "Huy Nguyễn",
      "userId": "12056843051819236081"
     },
     "user_tz": -420
    },
    "id": "bR1B-ao38NNd",
    "outputId": "72096cc8-1272-4f15-c96f-71a415216537"
   },
   "outputs": [
    {
     "name": "stdout",
     "output_type": "stream",
     "text": [
      "<class 'pandas.core.frame.DataFrame'>\n",
      "RangeIndex: 507 entries, 0 to 506\n",
      "Data columns (total 14 columns):\n",
      " #   Column               Non-Null Count  Dtype  \n",
      "---  ------               --------------  -----  \n",
      " 0   Brand                507 non-null    object \n",
      " 1   Model                507 non-null    object \n",
      " 2   Case Material        507 non-null    object \n",
      " 3   Strap Material       507 non-null    object \n",
      " 4   Movement Type        507 non-null    object \n",
      " 5   Water Resistance     507 non-null    object \n",
      " 6   Case Diameter (mm)   507 non-null    float64\n",
      " 7   Case Thickness (mm)  507 non-null    float64\n",
      " 8   Band Width (mm)      507 non-null    float64\n",
      " 9   Dial Color           507 non-null    object \n",
      " 10  Crystal Material     507 non-null    object \n",
      " 11  Complications        385 non-null    object \n",
      " 12  Power Reserve        493 non-null    object \n",
      " 13  Price (USD)          506 non-null    object \n",
      "dtypes: float64(3), object(11)\n",
      "memory usage: 55.6+ KB\n"
     ]
    },
    {
     "data": {
      "text/plain": [
       "Brand                    0\n",
       "Model                    0\n",
       "Case Material            0\n",
       "Strap Material           0\n",
       "Movement Type            0\n",
       "Water Resistance         0\n",
       "Case Diameter (mm)       0\n",
       "Case Thickness (mm)      0\n",
       "Band Width (mm)          0\n",
       "Dial Color               0\n",
       "Crystal Material         0\n",
       "Complications          122\n",
       "Power Reserve           14\n",
       "Price (USD)              1\n",
       "dtype: int64"
      ]
     },
     "execution_count": 6,
     "metadata": {},
     "output_type": "execute_result"
    }
   ],
   "source": [
    "df.info()\n",
    "df.isna().sum()"
   ]
  },
  {
   "cell_type": "code",
   "execution_count": 7,
   "metadata": {
    "colab": {
     "base_uri": "https://localhost:8080/",
     "height": 982
    },
    "executionInfo": {
     "elapsed": 311,
     "status": "ok",
     "timestamp": 1746196881158,
     "user": {
      "displayName": "Huy Nguyễn",
      "userId": "12056843051819236081"
     },
     "user_tz": -420
    },
    "id": "8jySGFgaM_yr",
    "outputId": "c79d8f7a-4d41-42c3-980d-b114a4842740"
   },
   "outputs": [
    {
     "data": {
      "text/plain": [
       "<Axes: >"
      ]
     },
     "execution_count": 7,
     "metadata": {},
     "output_type": "execute_result"
    },
    {
     "data": {
      "image/png": "[encoded data removed]",
      "text/plain": [
       "<Figure size 1000x1000 with 1 Axes>"
      ]
     },
     "metadata": {},
     "output_type": "display_data"
    }
   ],
   "source": [
    "fig, ax = plt.subplots(figsize=(10, 10))\n",
    "sns.heatmap(df.isna(), cbar=False, cmap='Blues', yticklabels=False)"
   ]
  },
  {
   "cell_type": "code",
   "execution_count": 8,
   "metadata": {
    "colab": {
     "base_uri": "https://localhost:8080/"
    },
    "executionInfo": {
     "elapsed": 48,
     "status": "ok",
     "timestamp": 1746196881207,
     "user": {
      "displayName": "Huy Nguyễn",
      "userId": "12056843051819236081"
     },
     "user_tz": -420
    },
    "id": "aN0xwIA4_5zD",
    "outputId": "b3bb70c9-f44a-495a-e489-4e2ced8a1f56"
   },
   "outputs": [
    {
     "name": "stdout",
     "output_type": "stream",
     "text": [
      "<class 'pandas.core.frame.DataFrame'>\n",
      "RangeIndex: 507 entries, 0 to 506\n",
      "Data columns (total 14 columns):\n",
      " #   Column            Non-Null Count  Dtype  \n",
      "---  ------            --------------  -----  \n",
      " 0   Brand             507 non-null    object \n",
      " 1   Model             507 non-null    object \n",
      " 2   Case Material     507 non-null    object \n",
      " 3   Strap Material    507 non-null    object \n",
      " 4   Movement Type     507 non-null    object \n",
      " 5   Water Resistance  507 non-null    object \n",
      " 6   Case Diameter     507 non-null    float64\n",
      " 7   Case Thickness    507 non-null    float64\n",
      " 8   Band Width        507 non-null    float64\n",
      " 9   Dial Color        507 non-null    object \n",
      " 10  Crystal Material  507 non-null    object \n",
      " 11  Complications     385 non-null    object \n",
      " 12  Power Reserve     493 non-null    object \n",
      " 13  Price             506 non-null    object \n",
      "dtypes: float64(3), object(11)\n",
      "memory usage: 55.6+ KB\n"
     ]
    }
   ],
   "source": [
    "df.columns = df.columns.str.replace(r\"\\s*\\(.*?\\)\", \"\", regex=True)\n",
    "df.info()"
   ]
  },
  {
   "cell_type": "code",
   "execution_count": 9,
   "metadata": {
    "colab": {
     "base_uri": "https://localhost:8080/",
     "height": 648
    },
    "executionInfo": {
     "elapsed": 36,
     "status": "ok",
     "timestamp": 1746196881244,
     "user": {
      "displayName": "Huy Nguyễn",
      "userId": "12056843051819236081"
     },
     "user_tz": -420
    },
    "id": "3mkeAAcZ8QVR",
    "outputId": "de81903b-4d87-4eea-951c-bcd0f74d0ccd"
   },
   "outputs": [
    {
     "data": {
      "text/plain": [
       "Case Material\n",
       "Stainless Steel           404\n",
       "Titanium                   37\n",
       "Rose Gold                  12\n",
       "18k Rose Gold              10\n",
       "Ceramic                     9\n",
       "White Gold                  9\n",
       "18k White Gold              7\n",
       "18K White Gold              5\n",
       "18K Rose Gold               3\n",
       "Carbon Fiber                3\n",
       "18K Yellow Gold             2\n",
       "High-Tech Ceramic           1\n",
       "German Submarine Steel      1\n",
       "Bronze                      1\n",
       "Yellow Gold                 1\n",
       "18k King Gold               1\n",
       "18k Yellow Gold             1\n",
       "Name: count, dtype: int64"
      ]
     },
     "execution_count": 9,
     "metadata": {},
     "output_type": "execute_result"
    }
   ],
   "source": [
    "df['Case Material'].value_counts()"
   ]
  },
  {
   "cell_type": "code",
   "execution_count": 10,
   "metadata": {
    "colab": {
     "base_uri": "https://localhost:8080/"
    },
    "executionInfo": {
     "elapsed": 6,
     "status": "ok",
     "timestamp": 1746196881251,
     "user": {
      "displayName": "Huy Nguyễn",
      "userId": "12056843051819236081"
     },
     "user_tz": -420
    },
    "id": "FefGsyNo_kKY",
    "outputId": "610ba678-fce4-4d35-f727-8792a12b8bf5"
   },
   "outputs": [
    {
     "name": "stdout",
     "output_type": "stream",
     "text": [
      "Case Material\n",
      "Stainless Steel    405\n",
      "Titanium            37\n",
      "Rose Gold           26\n",
      "White Gold          21\n",
      "Ceramic             10\n",
      "Yellow Gold          4\n",
      "Carbon Fiber         3\n",
      "Bronze               1\n",
      "Name: count, dtype: int64\n"
     ]
    }
   ],
   "source": [
    "df['Case Material'] = df['Case Material'].str.lower()\n",
    "\n",
    "def normalize_case_material(x):\n",
    "    if 'rose gold' in x or 'king gold' in x:\n",
    "        return 'Rose Gold'\n",
    "    elif 'white gold' in x:\n",
    "        return 'White Gold'\n",
    "    elif 'yellow gold' in x:\n",
    "        return 'Yellow Gold'\n",
    "    elif 'steel' in x:\n",
    "        return 'Stainless Steel'\n",
    "    elif 'titanium' in x:\n",
    "        return 'Titanium'\n",
    "    elif 'ceramic' in x:\n",
    "        return 'Ceramic'\n",
    "    elif 'carbon' in x:\n",
    "        return 'Carbon Fiber'\n",
    "    elif 'bronze' in x:\n",
    "        return 'Bronze'\n",
    "    else:\n",
    "        return x.title()\n",
    "\n",
    "df['Case Material'] = df['Case Material'].apply(normalize_case_material)\n",
    "\n",
    "print(df['Case Material'].value_counts())"
   ]
  },
  {
   "cell_type": "code",
   "execution_count": 11,
   "metadata": {
    "colab": {
     "base_uri": "https://localhost:8080/",
     "height": 554
    },
    "executionInfo": {
     "elapsed": 18,
     "status": "ok",
     "timestamp": 1746196881270,
     "user": {
      "displayName": "Huy Nguyễn",
      "userId": "12056843051819236081"
     },
     "user_tz": -420
    },
    "id": "cic8ZvXrAcva",
    "outputId": "62767996-1ddb-45b8-ba36-d6b64d3d4528"
   },
   "outputs": [
    {
     "data": {
      "text/plain": [
       "Strap Material\n",
       "Leather             224\n",
       "Stainless Steel     166\n",
       "Rubber               74\n",
       "Fabric               11\n",
       "Canvas               10\n",
       "Silicone              5\n",
       "NATO Strap            4\n",
       "Jubilee Bracelet      3\n",
       "Jubilee               2\n",
       "Alligator             2\n",
       "Titanium              2\n",
       "Rose Gold             2\n",
       "Textile               1\n",
       "NATO strap            1\n",
       "Name: count, dtype: int64"
      ]
     },
     "execution_count": 11,
     "metadata": {},
     "output_type": "execute_result"
    }
   ],
   "source": [
    "df['Strap Material'].value_counts()"
   ]
  },
  {
   "cell_type": "code",
   "execution_count": 12,
   "metadata": {
    "colab": {
     "base_uri": "https://localhost:8080/"
    },
    "executionInfo": {
     "elapsed": 35,
     "status": "ok",
     "timestamp": 1746196881307,
     "user": {
      "displayName": "Huy Nguyễn",
      "userId": "12056843051819236081"
     },
     "user_tz": -420
    },
    "id": "FdmmEONSAoB-",
    "outputId": "6dccff46-f4e5-4de3-fafa-85c2a917a154"
   },
   "outputs": [
    {
     "name": "stdout",
     "output_type": "stream",
     "text": [
      "Strap Material\n",
      "Leather            226\n",
      "Stainless Steel    171\n",
      "Rubber              79\n",
      "Fabric              22\n",
      "NATO                 5\n",
      "Titanium             2\n",
      "Gold                 2\n",
      "Name: count, dtype: int64\n"
     ]
    }
   ],
   "source": [
    "def normalize_strap_material(x):\n",
    "    if not isinstance(x, str):\n",
    "        return x\n",
    "    x = x.lower().strip()\n",
    "    mapping = {\n",
    "        'leather': 'Leather',\n",
    "        'stainless steel': 'Stainless Steel',\n",
    "        'rubber': 'Rubber',\n",
    "        'fabric': 'Fabric',\n",
    "        'canvas': 'Fabric',\n",
    "        'silicone': 'Rubber',\n",
    "        'nato strap': 'NATO',  # hoặc NATO nếu bạn muốn tạo nhóm riêng\n",
    "        'jubilee bracelet': 'Stainless Steel',\n",
    "        'jubilee': 'Stainless Steel',\n",
    "        'alligator': 'Leather',\n",
    "        'rose gold': 'Gold',\n",
    "        'titanium': 'Titanium',\n",
    "        'textile': 'Fabric',\n",
    "    }\n",
    "    return mapping.get(x, x.title())\n",
    "\n",
    "df['Strap Material'] = df['Strap Material'].apply(normalize_strap_material)\n",
    "\n",
    "print(df['Strap Material'].value_counts())"
   ]
  },
  {
   "cell_type": "code",
   "execution_count": 13,
   "metadata": {
    "colab": {
     "base_uri": "https://localhost:8080/",
     "height": 241
    },
    "executionInfo": {
     "elapsed": 4,
     "status": "ok",
     "timestamp": 1746196881313,
     "user": {
      "displayName": "Huy Nguyễn",
      "userId": "12056843051819236081"
     },
     "user_tz": -420
    },
    "id": "8i4-wWv6BaWe",
    "outputId": "dba2e70e-b091-4b2a-f34e-b646de32b8ba"
   },
   "outputs": [
    {
     "data": {
      "text/plain": [
       "Movement Type\n",
       "Automatic    442\n",
       "Manual        51\n",
       "Quartz        12\n",
       "Eco-Drive      2\n",
       "Name: count, dtype: int64"
      ]
     },
     "execution_count": 13,
     "metadata": {},
     "output_type": "execute_result"
    }
   ],
   "source": [
    "df['Movement Type'].value_counts()"
   ]
  },
  {
   "cell_type": "code",
   "execution_count": 14,
   "metadata": {
    "colab": {
     "base_uri": "https://localhost:8080/"
    },
    "executionInfo": {
     "elapsed": 8,
     "status": "ok",
     "timestamp": 1746196881323,
     "user": {
      "displayName": "Huy Nguyễn",
      "userId": "12056843051819236081"
     },
     "user_tz": -420
    },
    "id": "qBpaKnfcBdtX",
    "outputId": "c1c98827-985e-4932-da71-b1fb53ef9750"
   },
   "outputs": [
    {
     "name": "stdout",
     "output_type": "stream",
     "text": [
      "<class 'pandas.core.frame.DataFrame'>\n",
      "RangeIndex: 507 entries, 0 to 506\n",
      "Data columns (total 14 columns):\n",
      " #   Column            Non-Null Count  Dtype  \n",
      "---  ------            --------------  -----  \n",
      " 0   Brand             507 non-null    object \n",
      " 1   Model             507 non-null    object \n",
      " 2   Case Material     507 non-null    object \n",
      " 3   Strap Material    507 non-null    object \n",
      " 4   Movement Type     507 non-null    object \n",
      " 5   Water Resistance  507 non-null    int32  \n",
      " 6   Case Diameter     507 non-null    float64\n",
      " 7   Case Thickness    507 non-null    float64\n",
      " 8   Band Width        507 non-null    float64\n",
      " 9   Dial Color        507 non-null    object \n",
      " 10  Crystal Material  507 non-null    object \n",
      " 11  Complications     385 non-null    object \n",
      " 12  Power Reserve     493 non-null    object \n",
      " 13  Price             506 non-null    object \n",
      "dtypes: float64(3), int32(1), object(10)\n",
      "memory usage: 53.6+ KB\n"
     ]
    }
   ],
   "source": [
    "df['Water Resistance'] = df['Water Resistance'].str.replace(' meters', '', regex=False).astype(int)\n",
    "df.info()"
   ]
  },
  {
   "cell_type": "code",
   "execution_count": 15,
   "metadata": {
    "colab": {
     "base_uri": "https://localhost:8080/",
     "height": 335
    },
    "executionInfo": {
     "elapsed": 4,
     "status": "ok",
     "timestamp": 1746196881329,
     "user": {
      "displayName": "Huy Nguyễn",
      "userId": "12056843051819236081"
     },
     "user_tz": -420
    },
    "id": "AcX0Jzx0BvO0",
    "outputId": "3d5e9514-c634-4c0d-9e61-6dcaa9ff262d"
   },
   "outputs": [
    {
     "data": {
      "text/plain": [
       "Dial Color\n",
       "Black        217\n",
       "Blue         136\n",
       "Silver       118\n",
       "White         33\n",
       "Ivory          1\n",
       "Champagne      1\n",
       "Grey           1\n",
       "Name: count, dtype: int64"
      ]
     },
     "execution_count": 15,
     "metadata": {},
     "output_type": "execute_result"
    }
   ],
   "source": [
    "df['Dial Color'].value_counts()"
   ]
  },
  {
   "cell_type": "code",
   "execution_count": 16,
   "metadata": {
    "colab": {
     "base_uri": "https://localhost:8080/"
    },
    "executionInfo": {
     "elapsed": 53,
     "status": "ok",
     "timestamp": 1746196881383,
     "user": {
      "displayName": "Huy Nguyễn",
      "userId": "12056843051819236081"
     },
     "user_tz": -420
    },
    "id": "tnqqPxIyCIcw",
    "outputId": "2baeffcc-7004-49ff-9a85-0ae87fca6b90"
   },
   "outputs": [
    {
     "name": "stdout",
     "output_type": "stream",
     "text": [
      "Dial Color\n",
      "Black     217\n",
      "Blue      136\n",
      "Silver    118\n",
      "White      33\n",
      "Others      3\n",
      "Name: count, dtype: int64\n"
     ]
    }
   ],
   "source": [
    "def normalize_dial_color(x):\n",
    "    if not isinstance(x, str):\n",
    "        return x\n",
    "    x = x.lower().strip()\n",
    "    mapping = {\n",
    "        'black': 'Black',\n",
    "        'blue': 'Blue',\n",
    "        'silver': 'Silver',\n",
    "        'white': 'White',\n",
    "        'ivory': 'Others',\n",
    "        'champagne': 'Others',\n",
    "        'grey': 'Others',\n",
    "    }\n",
    "    return mapping.get(x, x.title())\n",
    "\n",
    "df['Dial Color'] = df['Dial Color'].apply(normalize_dial_color)\n",
    "\n",
    "print(df['Dial Color'].value_counts())"
   ]
  },
  {
   "cell_type": "code",
   "execution_count": 17,
   "metadata": {
    "colab": {
     "base_uri": "https://localhost:8080/",
     "height": 241
    },
    "executionInfo": {
     "elapsed": 112,
     "status": "ok",
     "timestamp": 1746196881496,
     "user": {
      "displayName": "Huy Nguyễn",
      "userId": "12056843051819236081"
     },
     "user_tz": -420
    },
    "id": "MXB15xnrCcHy",
    "outputId": "5f36ec45-8adb-44ce-cdbd-155c9d5813e0"
   },
   "outputs": [
    {
     "data": {
      "text/plain": [
       "Crystal Material\n",
       "Sapphire    489\n",
       "Hesalite     13\n",
       "Hardlex       3\n",
       "Mineral       2\n",
       "Name: count, dtype: int64"
      ]
     },
     "execution_count": 17,
     "metadata": {},
     "output_type": "execute_result"
    }
   ],
   "source": [
    "df['Crystal Material'].value_counts()"
   ]
  },
  {
   "cell_type": "code",
   "execution_count": 18,
   "metadata": {
    "colab": {
     "base_uri": "https://localhost:8080/"
    },
    "executionInfo": {
     "elapsed": 6,
     "status": "ok",
     "timestamp": 1746196881497,
     "user": {
      "displayName": "Huy Nguyễn",
      "userId": "12056843051819236081"
     },
     "user_tz": -420
    },
    "id": "NSbYic_lC715",
    "outputId": "85c1de0d-8205-462e-f1a8-12d37ad14000"
   },
   "outputs": [
    {
     "name": "stdout",
     "output_type": "stream",
     "text": [
      "Crystal Material\n",
      "Sapphire        489\n",
      "Non-Sapphire     18\n",
      "Name: count, dtype: int64\n"
     ]
    }
   ],
   "source": [
    "def normalize_crystal_material(x):\n",
    "    if not isinstance(x, str):\n",
    "        return x\n",
    "    x = x.lower().strip()\n",
    "    if x == 'sapphire':\n",
    "        return 'Sapphire'\n",
    "    elif x in ['hesalite', 'hardlex', 'mineral']:\n",
    "        return 'Non-Sapphire'\n",
    "    else:\n",
    "        return x.title()\n",
    "\n",
    "df['Crystal Material'] = df['Crystal Material'].apply(normalize_crystal_material)\n",
    "\n",
    "print(df['Crystal Material'].value_counts())"
   ]
  },
  {
   "cell_type": "code",
   "execution_count": 19,
   "metadata": {
    "colab": {
     "base_uri": "https://localhost:8080/",
     "height": 1000
    },
    "executionInfo": {
     "elapsed": 6,
     "status": "ok",
     "timestamp": 1746196881499,
     "user": {
      "displayName": "Huy Nguyễn",
      "userId": "12056843051819236081"
     },
     "user_tz": -420
    },
    "id": "Jux9tWfEDGiW",
    "outputId": "80a0a592-6860-4617-cd12-f227e0e26402"
   },
   "outputs": [
    {
     "data": {
      "text/plain": [
       "Complications\n",
       "Date                               234\n",
       "Chronograph                         78\n",
       "Chronograph, Date                   10\n",
       "Date, Chronograph                    9\n",
       "Chronograph, Tachymeter              7\n",
       "GMT, Date                            5\n",
       "Date, Power Reserve Indicator        4\n",
       "Date, Moonphase                      4\n",
       "Date, Power Reserve                  4\n",
       "Date, GMT                            4\n",
       "GMT                                  4\n",
       "Date, Moon Phase                     2\n",
       "Date, World Time                     2\n",
       "Date, Second Time Zone               2\n",
       "Date, Stopwatch                      2\n",
       "Date, Unidirectional Bezel           1\n",
       "Date, Cyclops                        1\n",
       "Dual Time Zone                       1\n",
       "Date, Chronograph, Moon Phase        1\n",
       "Date, Sub Seconds                    1\n",
       "Date, Cyclops Lens                   1\n",
       "Date, Rotating Bezel                 1\n",
       "Chronograph, Moon Phase              1\n",
       "Day/Date                             1\n",
       "Power Reserve                        1\n",
       "World Time, GMT                      1\n",
       "Date, Power Reserve, Moon Phase      1\n",
       "Date, Chronograph, Flyback           1\n",
       "Date, Chronograph, Tachymeter        1\n",
       "Name: count, dtype: int64"
      ]
     },
     "execution_count": 19,
     "metadata": {},
     "output_type": "execute_result"
    }
   ],
   "source": [
    "df['Complications'].value_counts()"
   ]
  },
  {
   "cell_type": "code",
   "execution_count": 20,
   "metadata": {
    "colab": {
     "base_uri": "https://localhost:8080/",
     "height": 115
    },
    "executionInfo": {
     "elapsed": 4,
     "status": "ok",
     "timestamp": 1746196881504,
     "user": {
      "displayName": "Huy Nguyễn",
      "userId": "12056843051819236081"
     },
     "user_tz": -420
    },
    "id": "bJcja0woFd-t",
    "outputId": "ceb9121c-f2de-4dee-fcce-ab8dad260561"
   },
   "outputs": [
    {
     "data": {
      "text/html": [
       "<div>\n",
       "<style scoped>\n",
       "    .dataframe tbody tr th:only-of-type {\n",
       "        vertical-align: middle;\n",
       "    }\n",
       "\n",
       "    .dataframe tbody tr th {\n",
       "        vertical-align: top;\n",
       "    }\n",
       "\n",
       "    .dataframe thead th {\n",
       "        text-align: right;\n",
       "    }\n",
       "</style>\n",
       "<table border=\"1\" class=\"dataframe\">\n",
       "  <thead>\n",
       "    <tr style=\"text-align: right;\">\n",
       "      <th></th>\n",
       "      <th>Brand</th>\n",
       "      <th>Model</th>\n",
       "      <th>Case Material</th>\n",
       "      <th>Strap Material</th>\n",
       "      <th>Movement Type</th>\n",
       "      <th>Water Resistance</th>\n",
       "      <th>Case Diameter</th>\n",
       "      <th>Case Thickness</th>\n",
       "      <th>Band Width</th>\n",
       "      <th>Dial Color</th>\n",
       "      <th>Crystal Material</th>\n",
       "      <th>Complications</th>\n",
       "      <th>Power Reserve</th>\n",
       "      <th>Price</th>\n",
       "    </tr>\n",
       "  </thead>\n",
       "  <tbody>\n",
       "    <tr>\n",
       "      <th>116</th>\n",
       "      <td>Seiko</td>\n",
       "      <td>Prospex</td>\n",
       "      <td>Stainless Steel</td>\n",
       "      <td>Rubber</td>\n",
       "      <td>Automatic</td>\n",
       "      <td>200</td>\n",
       "      <td>44.3</td>\n",
       "      <td>12.7</td>\n",
       "      <td>20.0</td>\n",
       "      <td>Blue</td>\n",
       "      <td>Sapphire</td>\n",
       "      <td>Day/Date</td>\n",
       "      <td>41 hours</td>\n",
       "      <td>1,200</td>\n",
       "    </tr>\n",
       "  </tbody>\n",
       "</table>\n",
       "</div>"
      ],
      "text/plain": [
       "     Brand    Model    Case Material Strap Material Movement Type  \\\n",
       "116  Seiko  Prospex  Stainless Steel         Rubber     Automatic   \n",
       "\n",
       "     Water Resistance  Case Diameter  Case Thickness  Band Width Dial Color  \\\n",
       "116               200           44.3            12.7        20.0       Blue   \n",
       "\n",
       "    Crystal Material Complications Power Reserve  Price  \n",
       "116         Sapphire      Day/Date      41 hours  1,200  "
      ]
     },
     "execution_count": 20,
     "metadata": {},
     "output_type": "execute_result"
    }
   ],
   "source": [
    "df[df['Complications'].str.contains('Day/Date', case=False, na=False)]"
   ]
  },
  {
   "cell_type": "code",
   "execution_count": 21,
   "metadata": {
    "colab": {
     "base_uri": "https://localhost:8080/"
    },
    "executionInfo": {
     "elapsed": 6,
     "status": "ok",
     "timestamp": 1746196881511,
     "user": {
      "displayName": "Huy Nguyễn",
      "userId": "12056843051819236081"
     },
     "user_tz": -420
    },
    "id": "1tsTWFtzH-xp",
    "outputId": "203fb281-58e5-4982-f973-8e56280970ac"
   },
   "outputs": [
    {
     "name": "stdout",
     "output_type": "stream",
     "text": [
      "<class 'pandas.core.frame.DataFrame'>\n",
      "RangeIndex: 507 entries, 0 to 506\n",
      "Data columns (total 14 columns):\n",
      " #   Column            Non-Null Count  Dtype  \n",
      "---  ------            --------------  -----  \n",
      " 0   Brand             507 non-null    object \n",
      " 1   Model             507 non-null    object \n",
      " 2   Case Material     507 non-null    object \n",
      " 3   Strap Material    507 non-null    object \n",
      " 4   Movement Type     507 non-null    object \n",
      " 5   Water Resistance  507 non-null    int32  \n",
      " 6   Case Diameter     507 non-null    float64\n",
      " 7   Case Thickness    507 non-null    float64\n",
      " 8   Band Width        507 non-null    float64\n",
      " 9   Dial Color        507 non-null    object \n",
      " 10  Crystal Material  507 non-null    object \n",
      " 11  Complications     385 non-null    object \n",
      " 12  Power Reserve     493 non-null    object \n",
      " 13  Price             506 non-null    object \n",
      "dtypes: float64(3), int32(1), object(10)\n",
      "memory usage: 53.6+ KB\n"
     ]
    }
   ],
   "source": [
    "df.info()"
   ]
  },
  {
   "cell_type": "code",
   "execution_count": 22,
   "metadata": {
    "colab": {
     "base_uri": "https://localhost:8080/",
     "height": 241
    },
    "executionInfo": {
     "elapsed": 6,
     "status": "ok",
     "timestamp": 1746196881518,
     "user": {
      "displayName": "Huy Nguyễn",
      "userId": "12056843051819236081"
     },
     "user_tz": -420
    },
    "id": "9j-zsQonIQFf",
    "outputId": "d90726fe-2926-413e-f697-08fbe36a2837"
   },
   "outputs": [
    {
     "data": {
      "text/plain": [
       "0           Date\n",
       "1           Date\n",
       "2    Chronograph\n",
       "3    Chronograph\n",
       "4            NaN\n",
       "Name: Complications, dtype: object"
      ]
     },
     "execution_count": 22,
     "metadata": {},
     "output_type": "execute_result"
    }
   ],
   "source": [
    "df['Complications'].head()"
   ]
  },
  {
   "cell_type": "code",
   "execution_count": 23,
   "metadata": {
    "executionInfo": {
     "elapsed": 1,
     "status": "ok",
     "timestamp": 1746196881521,
     "user": {
      "displayName": "Huy Nguyễn",
      "userId": "12056843051819236081"
     },
     "user_tz": -420
    },
    "id": "J698T9stIZOC"
   },
   "outputs": [],
   "source": [
    "df['Complications'] = df['Complications'].fillna('None').astype(str)"
   ]
  },
  {
   "cell_type": "code",
   "execution_count": 24,
   "metadata": {
    "colab": {
     "base_uri": "https://localhost:8080/"
    },
    "executionInfo": {
     "elapsed": 10,
     "status": "ok",
     "timestamp": 1746196881535,
     "user": {
      "displayName": "Huy Nguyễn",
      "userId": "12056843051819236081"
     },
     "user_tz": -420
    },
    "id": "FDF7wqNrHZyE",
    "outputId": "146749f0-4fdd-464c-ab3e-6075c706bb1c"
   },
   "outputs": [
    {
     "name": "stdout",
     "output_type": "stream",
     "text": [
      "     Complications  Complication_Score\n",
      "0           [Date]                   1\n",
      "1           [Date]                   1\n",
      "2    [Chronograph]                   3\n",
      "3    [Chronograph]                   3\n",
      "4           [None]                   0\n",
      "..             ...                 ...\n",
      "502         [Date]                   1\n",
      "503         [Date]                   1\n",
      "504         [Date]                   1\n",
      "505         [Date]                   1\n",
      "506         [Date]                   1\n",
      "\n",
      "[507 rows x 2 columns]\n"
     ]
    }
   ],
   "source": [
    "df['Complications'] = df['Complications'].str.replace(', ', ',')\n",
    "df['Complications'] = df['Complications'].str.split(',')\n",
    "\n",
    "score_dict = {\n",
    "    'None': 0,\n",
    "    'Date': 1,\n",
    "    'GMT': 2,\n",
    "    'Chronograph': 3,\n",
    "    'Tachymeter': 2,\n",
    "    'Moonphase': 2,\n",
    "    'Moon Phase': 2,\n",
    "    'Power Reserve': 2,\n",
    "    'Power Reserve Indicator': 2,\n",
    "    'Flyback': 3,\n",
    "    'World Time': 2,\n",
    "    'Stopwatch': 1,\n",
    "    'Sub Seconds': 1,\n",
    "    'Cyclops': 1,\n",
    "    'Cyclops Lens': 1,\n",
    "    'Rotating Bezel': 1,\n",
    "    'Unidirectional Bezel': 1,\n",
    "    'Dual Time Zone': 2,\n",
    "    'Second Time Zone': 2,\n",
    "    'Day/Date': 1\n",
    "}\n",
    "\n",
    "df['Complication_Score'] = df['Complications'].apply(\n",
    "    lambda lst: sum(score_dict.get(comp.strip(), 0) for comp in lst)\n",
    ")\n",
    "\n",
    "print(df[['Complications', 'Complication_Score']])\n"
   ]
  },
  {
   "cell_type": "code",
   "execution_count": 25,
   "metadata": {
    "colab": {
     "base_uri": "https://localhost:8080/"
    },
    "executionInfo": {
     "elapsed": 6,
     "status": "ok",
     "timestamp": 1746196881543,
     "user": {
      "displayName": "Huy Nguyễn",
      "userId": "12056843051819236081"
     },
     "user_tz": -420
    },
    "id": "rGi6AocrImvl",
    "outputId": "bc57f8c7-1422-42ee-c098-4964fa82ce71"
   },
   "outputs": [
    {
     "name": "stdout",
     "output_type": "stream",
     "text": [
      "<class 'pandas.core.frame.DataFrame'>\n",
      "RangeIndex: 507 entries, 0 to 506\n",
      "Data columns (total 15 columns):\n",
      " #   Column              Non-Null Count  Dtype  \n",
      "---  ------              --------------  -----  \n",
      " 0   Brand               507 non-null    object \n",
      " 1   Model               507 non-null    object \n",
      " 2   Case Material       507 non-null    object \n",
      " 3   Strap Material      507 non-null    object \n",
      " 4   Movement Type       507 non-null    object \n",
      " 5   Water Resistance    507 non-null    int32  \n",
      " 6   Case Diameter       507 non-null    float64\n",
      " 7   Case Thickness      507 non-null    float64\n",
      " 8   Band Width          507 non-null    float64\n",
      " 9   Dial Color          507 non-null    object \n",
      " 10  Crystal Material    507 non-null    object \n",
      " 11  Complications       507 non-null    object \n",
      " 12  Power Reserve       493 non-null    object \n",
      " 13  Price               506 non-null    object \n",
      " 14  Complication_Score  507 non-null    int64  \n",
      "dtypes: float64(3), int32(1), int64(1), object(10)\n",
      "memory usage: 57.6+ KB\n"
     ]
    }
   ],
   "source": [
    "df.info()"
   ]
  },
  {
   "cell_type": "code",
   "execution_count": 26,
   "metadata": {
    "colab": {
     "base_uri": "https://localhost:8080/",
     "height": 899
    },
    "executionInfo": {
     "elapsed": 6,
     "status": "ok",
     "timestamp": 1746196881550,
     "user": {
      "displayName": "Huy Nguyễn",
      "userId": "12056843051819236081"
     },
     "user_tz": -420
    },
    "id": "jQf0MueeIvgT",
    "outputId": "295d8c5f-941b-4e33-ae84-945b490f6ea8"
   },
   "outputs": [
    {
     "data": {
      "text/plain": [
       "Power Reserve\n",
       "60 hours     82\n",
       "42 hours     55\n",
       "70 hours     50\n",
       "50 hours     40\n",
       "72 hours     38\n",
       "120 hours    30\n",
       "45 hours     29\n",
       "48 hours     27\n",
       "38 hours     27\n",
       "40 hours     22\n",
       "54 hours     15\n",
       "46 hours     13\n",
       "65 hours     11\n",
       "55 hours     10\n",
       "44 hours     10\n",
       "56 hours      8\n",
       "64 hours      6\n",
       "68 hours      6\n",
       "43 hours      5\n",
       "80 hours      4\n",
       "41 hours      1\n",
       "4,200         1\n",
       "210 days      1\n",
       "270 days      1\n",
       "168 hours     1\n",
       "Name: count, dtype: int64"
      ]
     },
     "execution_count": 26,
     "metadata": {},
     "output_type": "execute_result"
    }
   ],
   "source": [
    "df['Power Reserve'].value_counts()"
   ]
  },
  {
   "cell_type": "code",
   "execution_count": 27,
   "metadata": {
    "executionInfo": {
     "elapsed": 2,
     "status": "ok",
     "timestamp": 1746196881592,
     "user": {
      "displayName": "Huy Nguyễn",
      "userId": "12056843051819236081"
     },
     "user_tz": -420
    },
    "id": "J-nFuEe8JLNs"
   },
   "outputs": [],
   "source": [
    "df['Power Reserve'] = df['Power Reserve'].apply(lambda x:\n",
    "    float(x.replace(' days', '').strip().replace(',', '')) * 24 if isinstance(x, str) and 'days' in x\n",
    "    else float(x.replace(' hours', '').strip().replace(',', '')) if isinstance(x, str)\n",
    "    else x)\n",
    "df['Power Reserve'] = df['Power Reserve'].fillna(df['Power Reserve'].median())"
   ]
  },
  {
   "cell_type": "code",
   "execution_count": 28,
   "metadata": {
    "executionInfo": {
     "elapsed": 1,
     "status": "ok",
     "timestamp": 1746196881594,
     "user": {
      "displayName": "Huy Nguyễn",
      "userId": "12056843051819236081"
     },
     "user_tz": -420
    },
    "id": "nBe5k26_JRdh"
   },
   "outputs": [],
   "source": [
    "df['Price'] = df['Price'].str.replace('$', '').str.replace(',', '').astype(float)"
   ]
  },
  {
   "cell_type": "code",
   "execution_count": 29,
   "metadata": {
    "executionInfo": {
     "elapsed": 1,
     "status": "ok",
     "timestamp": 1746196881596,
     "user": {
      "displayName": "Huy Nguyễn",
      "userId": "12056843051819236081"
     },
     "user_tz": -420
    },
    "id": "TkxvOoLbKWCI"
   },
   "outputs": [],
   "source": [
    "df['Price'] = df['Price'].fillna(df['Price'].median())"
   ]
  },
  {
   "cell_type": "code",
   "execution_count": 30,
   "metadata": {
    "colab": {
     "base_uri": "https://localhost:8080/"
    },
    "executionInfo": {
     "elapsed": 12,
     "status": "ok",
     "timestamp": 1746196881609,
     "user": {
      "displayName": "Huy Nguyễn",
      "userId": "12056843051819236081"
     },
     "user_tz": -420
    },
    "id": "KsCXU9fAKSaI",
    "outputId": "13a17327-10b0-4677-9c6e-2b5d8b223b43"
   },
   "outputs": [
    {
     "name": "stdout",
     "output_type": "stream",
     "text": [
      "<class 'pandas.core.frame.DataFrame'>\n",
      "RangeIndex: 507 entries, 0 to 506\n",
      "Data columns (total 15 columns):\n",
      " #   Column              Non-Null Count  Dtype  \n",
      "---  ------              --------------  -----  \n",
      " 0   Brand               507 non-null    object \n",
      " 1   Model               507 non-null    object \n",
      " 2   Case Material       507 non-null    object \n",
      " 3   Strap Material      507 non-null    object \n",
      " 4   Movement Type       507 non-null    object \n",
      " 5   Water Resistance    507 non-null    int32  \n",
      " 6   Case Diameter       507 non-null    float64\n",
      " 7   Case Thickness      507 non-null    float64\n",
      " 8   Band Width          507 non-null    float64\n",
      " 9   Dial Color          507 non-null    object \n",
      " 10  Crystal Material    507 non-null    object \n",
      " 11  Complications       507 non-null    object \n",
      " 12  Power Reserve       507 non-null    float64\n",
      " 13  Price               507 non-null    float64\n",
      " 14  Complication_Score  507 non-null    int64  \n",
      "dtypes: float64(5), int32(1), int64(1), object(8)\n",
      "memory usage: 57.6+ KB\n"
     ]
    }
   ],
   "source": [
    "df.info()"
   ]
  },
  {
   "cell_type": "code",
   "execution_count": 31,
   "metadata": {
    "colab": {
     "base_uri": "https://localhost:8080/",
     "height": 466
    },
    "executionInfo": {
     "elapsed": 49,
     "status": "ok",
     "timestamp": 1746196881659,
     "user": {
      "displayName": "Huy Nguyễn",
      "userId": "12056843051819236081"
     },
     "user_tz": -420
    },
    "id": "P2aPwYKwLDol",
    "outputId": "63ba188a-e7de-430f-e1c2-2402d537f512"
   },
   "outputs": [
    {
     "data": {
      "text/plain": [
       "<Axes: xlabel='Price', ylabel='Count'>"
      ]
     },
     "execution_count": 31,
     "metadata": {},
     "output_type": "execute_result"
    },
    {
     "data": {
      "image/png": "[encoded data removed]",
      "text/plain": [
       "<Figure size 640x480 with 1 Axes>"
      ]
     },
     "metadata": {},
     "output_type": "display_data"
    }
   ],
   "source": [
    "sns.histplot(df['Price'], kde=True)"
   ]
  },
  {
   "cell_type": "code",
   "execution_count": 32,
   "metadata": {
    "executionInfo": {
     "elapsed": 432,
     "status": "ok",
     "timestamp": 1746196899158,
     "user": {
      "displayName": "Huy Nguyễn",
      "userId": "12056843051819236081"
     },
     "user_tz": -420
    },
    "id": "92TIvTEeMEsu"
   },
   "outputs": [],
   "source": [
    "df.to_csv('datasets/luxury_watches_preprocessed.csv', index=False)"
   ]
  }
 ],
 "metadata": {
  "colab": {
   "authorship_tag": "ABX9TyOud7vj/+lJeZ/UcZ8rey9V",
   "provenance": []
  },
  "kernelspec": {
   "display_name": "Python 3",
   "name": "python3"
  },
  "language_info": {
   "codemirror_mode": {
    "name": "ipython",
    "version": 3
   },
   "file_extension": ".py",
   "mimetype": "text/x-python",
   "name": "python",
   "nbconvert_exporter": "python",
   "pygments_lexer": "ipython3",
   "version": "3.10.10"
  }
 },
 "nbformat": 4,
 "nbformat_minor": 0
}
