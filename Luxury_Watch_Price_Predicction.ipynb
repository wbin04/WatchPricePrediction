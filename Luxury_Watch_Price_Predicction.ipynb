{
  "nbformat": 4,
  "nbformat_minor": 0,
  "metadata": {
    "colab": {
      "provenance": []
    },
    "kernelspec": {
      "name": "python3",
      "display_name": "Python 3"
    },
    "language_info": {
      "name": "python"
    }
  },
  "cells": [
    {
      "cell_type": "code",
      "execution_count": 146,
      "metadata": {
        "id": "QJZH0YpMMRAS"
      },
      "outputs": [],
      "source": [
        "import pandas as pd\n",
        "import numpy as np\n",
        "import matplotlib.pyplot as plt\n",
        "import seaborn as sns\n",
        "from sklearn.model_selection import train_test_split\n",
        "from sklearn.preprocessing import StandardScaler\n",
        "from sklearn.ensemble import RandomForestRegressor\n",
        "from sklearn.metrics import mean_squared_error, r2_score"
      ]
    },
    {
      "cell_type": "code",
      "source": [
        "df = pd.read_csv('Luxury watch.csv')"
      ],
      "metadata": {
        "id": "cHYrCA5YNJs8"
      },
      "execution_count": 147,
      "outputs": []
    },
    {
      "cell_type": "code",
      "source": [
        "print(df.head())"
      ],
      "metadata": {
        "colab": {
          "base_uri": "https://localhost:8080/"
        },
        "id": "9-Z9ervONNDu",
        "outputId": "dfd7b786-2a7d-4b6e-cab8-4d6d6afe23c3"
      },
      "execution_count": 148,
      "outputs": [
        {
          "output_type": "stream",
          "name": "stdout",
          "text": [
            "       Brand       Model    Case Material   Strap Material Movement Type  \\\n",
            "0      Rolex  Submariner  Stainless Steel  Stainless Steel     Automatic   \n",
            "1      Omega   Seamaster         Titanium           Rubber     Automatic   \n",
            "2  Tag Heuer     Carrera  Stainless Steel          Leather     Automatic   \n",
            "3  Breitling   Navitimer  Stainless Steel  Stainless Steel     Automatic   \n",
            "4    Cartier   Tank Solo  Stainless Steel          Leather        Quartz   \n",
            "\n",
            "  Water Resistance  Case Diameter (mm)  Case Thickness (mm)  Band Width (mm)  \\\n",
            "0       300 meters                40.0                13.00             20.0   \n",
            "1       600 meters                43.5                14.47             21.0   \n",
            "2       100 meters                41.0                13.00             20.0   \n",
            "3        30 meters                43.0                14.25             22.0   \n",
            "4        30 meters                31.0                 6.05             20.0   \n",
            "\n",
            "  Dial Color Crystal Material Complications Power Reserve Price (USD)  \n",
            "0      Black         Sapphire          Date      48 hours       9,500  \n",
            "1       Blue         Sapphire          Date      60 hours       5,800  \n",
            "2      White         Sapphire   Chronograph      42 hours       4,200  \n",
            "3      Black         Sapphire   Chronograph      70 hours       7,900  \n",
            "4     Silver         Sapphire           NaN           NaN       2,800  \n"
          ]
        }
      ]
    },
    {
      "cell_type": "code",
      "source": [
        "df.info()"
      ],
      "metadata": {
        "colab": {
          "base_uri": "https://localhost:8080/"
        },
        "id": "KkPCb90YOkoP",
        "outputId": "d0b03d8e-2f98-4cb1-e51c-2d6936691369"
      },
      "execution_count": 149,
      "outputs": [
        {
          "output_type": "stream",
          "name": "stdout",
          "text": [
            "<class 'pandas.core.frame.DataFrame'>\n",
            "RangeIndex: 507 entries, 0 to 506\n",
            "Data columns (total 14 columns):\n",
            " #   Column               Non-Null Count  Dtype  \n",
            "---  ------               --------------  -----  \n",
            " 0   Brand                507 non-null    object \n",
            " 1   Model                507 non-null    object \n",
            " 2   Case Material        507 non-null    object \n",
            " 3   Strap Material       507 non-null    object \n",
            " 4   Movement Type        507 non-null    object \n",
            " 5   Water Resistance     507 non-null    object \n",
            " 6   Case Diameter (mm)   507 non-null    float64\n",
            " 7   Case Thickness (mm)  507 non-null    float64\n",
            " 8   Band Width (mm)      507 non-null    float64\n",
            " 9   Dial Color           507 non-null    object \n",
            " 10  Crystal Material     507 non-null    object \n",
            " 11  Complications        385 non-null    object \n",
            " 12  Power Reserve        493 non-null    object \n",
            " 13  Price (USD)          506 non-null    object \n",
            "dtypes: float64(3), object(11)\n",
            "memory usage: 55.6+ KB\n"
          ]
        }
      ]
    },
    {
      "cell_type": "code",
      "source": [
        "df.columns = df.columns.str.replace(r\"\\s*\\(.*?\\)\", \"\", regex=True)\n",
        "df.info()"
      ],
      "metadata": {
        "colab": {
          "base_uri": "https://localhost:8080/"
        },
        "id": "jinDGqTWYry2",
        "outputId": "c155559a-ff0f-4c0d-9c38-2e51d94e276b"
      },
      "execution_count": 150,
      "outputs": [
        {
          "output_type": "stream",
          "name": "stdout",
          "text": [
            "<class 'pandas.core.frame.DataFrame'>\n",
            "RangeIndex: 507 entries, 0 to 506\n",
            "Data columns (total 14 columns):\n",
            " #   Column            Non-Null Count  Dtype  \n",
            "---  ------            --------------  -----  \n",
            " 0   Brand             507 non-null    object \n",
            " 1   Model             507 non-null    object \n",
            " 2   Case Material     507 non-null    object \n",
            " 3   Strap Material    507 non-null    object \n",
            " 4   Movement Type     507 non-null    object \n",
            " 5   Water Resistance  507 non-null    object \n",
            " 6   Case Diameter     507 non-null    float64\n",
            " 7   Case Thickness    507 non-null    float64\n",
            " 8   Band Width        507 non-null    float64\n",
            " 9   Dial Color        507 non-null    object \n",
            " 10  Crystal Material  507 non-null    object \n",
            " 11  Complications     385 non-null    object \n",
            " 12  Power Reserve     493 non-null    object \n",
            " 13  Price             506 non-null    object \n",
            "dtypes: float64(3), object(11)\n",
            "memory usage: 55.6+ KB\n"
          ]
        }
      ]
    },
    {
      "cell_type": "code",
      "source": [
        "df['Price'] = df['Price'].str.replace('$', '').str.replace(',', '').astype(float)\n",
        "df.info()"
      ],
      "metadata": {
        "colab": {
          "base_uri": "https://localhost:8080/"
        },
        "id": "9QlOGRmrTk8N",
        "outputId": "305e96dd-b953-4d82-e5ad-134a44b507e7"
      },
      "execution_count": 151,
      "outputs": [
        {
          "output_type": "stream",
          "name": "stdout",
          "text": [
            "<class 'pandas.core.frame.DataFrame'>\n",
            "RangeIndex: 507 entries, 0 to 506\n",
            "Data columns (total 14 columns):\n",
            " #   Column            Non-Null Count  Dtype  \n",
            "---  ------            --------------  -----  \n",
            " 0   Brand             507 non-null    object \n",
            " 1   Model             507 non-null    object \n",
            " 2   Case Material     507 non-null    object \n",
            " 3   Strap Material    507 non-null    object \n",
            " 4   Movement Type     507 non-null    object \n",
            " 5   Water Resistance  507 non-null    object \n",
            " 6   Case Diameter     507 non-null    float64\n",
            " 7   Case Thickness    507 non-null    float64\n",
            " 8   Band Width        507 non-null    float64\n",
            " 9   Dial Color        507 non-null    object \n",
            " 10  Crystal Material  507 non-null    object \n",
            " 11  Complications     385 non-null    object \n",
            " 12  Power Reserve     493 non-null    object \n",
            " 13  Price             506 non-null    float64\n",
            "dtypes: float64(4), object(10)\n",
            "memory usage: 55.6+ KB\n"
          ]
        }
      ]
    },
    {
      "cell_type": "code",
      "source": [
        "df['Water Resistance'] = df['Water Resistance'].str.replace(' meters', '', regex=False).astype(float)\n",
        "df.info()"
      ],
      "metadata": {
        "colab": {
          "base_uri": "https://localhost:8080/"
        },
        "id": "ZxWVoAz2ZNC7",
        "outputId": "f8ac278a-6a63-4483-b255-a0f46a7e9db8"
      },
      "execution_count": 152,
      "outputs": [
        {
          "output_type": "stream",
          "name": "stdout",
          "text": [
            "<class 'pandas.core.frame.DataFrame'>\n",
            "RangeIndex: 507 entries, 0 to 506\n",
            "Data columns (total 14 columns):\n",
            " #   Column            Non-Null Count  Dtype  \n",
            "---  ------            --------------  -----  \n",
            " 0   Brand             507 non-null    object \n",
            " 1   Model             507 non-null    object \n",
            " 2   Case Material     507 non-null    object \n",
            " 3   Strap Material    507 non-null    object \n",
            " 4   Movement Type     507 non-null    object \n",
            " 5   Water Resistance  507 non-null    float64\n",
            " 6   Case Diameter     507 non-null    float64\n",
            " 7   Case Thickness    507 non-null    float64\n",
            " 8   Band Width        507 non-null    float64\n",
            " 9   Dial Color        507 non-null    object \n",
            " 10  Crystal Material  507 non-null    object \n",
            " 11  Complications     385 non-null    object \n",
            " 12  Power Reserve     493 non-null    object \n",
            " 13  Price             506 non-null    float64\n",
            "dtypes: float64(5), object(9)\n",
            "memory usage: 55.6+ KB\n"
          ]
        }
      ]
    },
    {
      "cell_type": "code",
      "source": [
        "df['Power Reserve'].unique()"
      ],
      "metadata": {
        "colab": {
          "base_uri": "https://localhost:8080/"
        },
        "id": "aoRzNlqdaPev",
        "outputId": "c48865d6-df3b-426c-a3bf-4a51b2640811"
      },
      "execution_count": 153,
      "outputs": [
        {
          "output_type": "execute_result",
          "data": {
            "text/plain": [
              "array(['48 hours', '60 hours', '42 hours', '70 hours', nan, '45 hours',\n",
              "       '50 hours', '270 days', '38 hours', '80 hours', '64 hours',\n",
              "       '40 hours', '56 hours', '4,200', '120 hours', '68 hours',\n",
              "       '54 hours', '46 hours', '72 hours', '44 hours', '210 days',\n",
              "       '65 hours', '43 hours', '41 hours', '55 hours', '168 hours'],\n",
              "      dtype=object)"
            ]
          },
          "metadata": {},
          "execution_count": 153
        }
      ]
    },
    {
      "cell_type": "code",
      "source": [
        "df['Power Reserve'].value_counts()"
      ],
      "metadata": {
        "colab": {
          "base_uri": "https://localhost:8080/",
          "height": 899
        },
        "id": "PFPk3GeCdryE",
        "outputId": "d71ea58d-6619-42ac-d2fe-96fe5377beac"
      },
      "execution_count": 154,
      "outputs": [
        {
          "output_type": "execute_result",
          "data": {
            "text/plain": [
              "Power Reserve\n",
              "60 hours     82\n",
              "42 hours     55\n",
              "70 hours     50\n",
              "50 hours     40\n",
              "72 hours     38\n",
              "120 hours    30\n",
              "45 hours     29\n",
              "48 hours     27\n",
              "38 hours     27\n",
              "40 hours     22\n",
              "54 hours     15\n",
              "46 hours     13\n",
              "65 hours     11\n",
              "55 hours     10\n",
              "44 hours     10\n",
              "56 hours      8\n",
              "64 hours      6\n",
              "68 hours      6\n",
              "43 hours      5\n",
              "80 hours      4\n",
              "270 days      1\n",
              "4,200         1\n",
              "210 days      1\n",
              "41 hours      1\n",
              "168 hours     1\n",
              "Name: count, dtype: int64"
            ],
            "text/html": [
              "<div>\n",
              "<style scoped>\n",
              "    .dataframe tbody tr th:only-of-type {\n",
              "        vertical-align: middle;\n",
              "    }\n",
              "\n",
              "    .dataframe tbody tr th {\n",
              "        vertical-align: top;\n",
              "    }\n",
              "\n",
              "    .dataframe thead th {\n",
              "        text-align: right;\n",
              "    }\n",
              "</style>\n",
              "<table border=\"1\" class=\"dataframe\">\n",
              "  <thead>\n",
              "    <tr style=\"text-align: right;\">\n",
              "      <th></th>\n",
              "      <th>count</th>\n",
              "    </tr>\n",
              "    <tr>\n",
              "      <th>Power Reserve</th>\n",
              "      <th></th>\n",
              "    </tr>\n",
              "  </thead>\n",
              "  <tbody>\n",
              "    <tr>\n",
              "      <th>60 hours</th>\n",
              "      <td>82</td>\n",
              "    </tr>\n",
              "    <tr>\n",
              "      <th>42 hours</th>\n",
              "      <td>55</td>\n",
              "    </tr>\n",
              "    <tr>\n",
              "      <th>70 hours</th>\n",
              "      <td>50</td>\n",
              "    </tr>\n",
              "    <tr>\n",
              "      <th>50 hours</th>\n",
              "      <td>40</td>\n",
              "    </tr>\n",
              "    <tr>\n",
              "      <th>72 hours</th>\n",
              "      <td>38</td>\n",
              "    </tr>\n",
              "    <tr>\n",
              "      <th>120 hours</th>\n",
              "      <td>30</td>\n",
              "    </tr>\n",
              "    <tr>\n",
              "      <th>45 hours</th>\n",
              "      <td>29</td>\n",
              "    </tr>\n",
              "    <tr>\n",
              "      <th>48 hours</th>\n",
              "      <td>27</td>\n",
              "    </tr>\n",
              "    <tr>\n",
              "      <th>38 hours</th>\n",
              "      <td>27</td>\n",
              "    </tr>\n",
              "    <tr>\n",
              "      <th>40 hours</th>\n",
              "      <td>22</td>\n",
              "    </tr>\n",
              "    <tr>\n",
              "      <th>54 hours</th>\n",
              "      <td>15</td>\n",
              "    </tr>\n",
              "    <tr>\n",
              "      <th>46 hours</th>\n",
              "      <td>13</td>\n",
              "    </tr>\n",
              "    <tr>\n",
              "      <th>65 hours</th>\n",
              "      <td>11</td>\n",
              "    </tr>\n",
              "    <tr>\n",
              "      <th>55 hours</th>\n",
              "      <td>10</td>\n",
              "    </tr>\n",
              "    <tr>\n",
              "      <th>44 hours</th>\n",
              "      <td>10</td>\n",
              "    </tr>\n",
              "    <tr>\n",
              "      <th>56 hours</th>\n",
              "      <td>8</td>\n",
              "    </tr>\n",
              "    <tr>\n",
              "      <th>64 hours</th>\n",
              "      <td>6</td>\n",
              "    </tr>\n",
              "    <tr>\n",
              "      <th>68 hours</th>\n",
              "      <td>6</td>\n",
              "    </tr>\n",
              "    <tr>\n",
              "      <th>43 hours</th>\n",
              "      <td>5</td>\n",
              "    </tr>\n",
              "    <tr>\n",
              "      <th>80 hours</th>\n",
              "      <td>4</td>\n",
              "    </tr>\n",
              "    <tr>\n",
              "      <th>270 days</th>\n",
              "      <td>1</td>\n",
              "    </tr>\n",
              "    <tr>\n",
              "      <th>4,200</th>\n",
              "      <td>1</td>\n",
              "    </tr>\n",
              "    <tr>\n",
              "      <th>210 days</th>\n",
              "      <td>1</td>\n",
              "    </tr>\n",
              "    <tr>\n",
              "      <th>41 hours</th>\n",
              "      <td>1</td>\n",
              "    </tr>\n",
              "    <tr>\n",
              "      <th>168 hours</th>\n",
              "      <td>1</td>\n",
              "    </tr>\n",
              "  </tbody>\n",
              "</table>\n",
              "</div><br><label><b>dtype:</b> int64</label>"
            ]
          },
          "metadata": {},
          "execution_count": 154
        }
      ]
    },
    {
      "cell_type": "code",
      "source": [
        "print(df['Power Reserve'].isna().sum())"
      ],
      "metadata": {
        "colab": {
          "base_uri": "https://localhost:8080/"
        },
        "id": "lpH_oxs_dit_",
        "outputId": "c533d509-51ab-437a-d23b-de7f85b98a92"
      },
      "execution_count": 155,
      "outputs": [
        {
          "output_type": "stream",
          "name": "stdout",
          "text": [
            "14\n"
          ]
        }
      ]
    },
    {
      "cell_type": "code",
      "source": [
        "df['Power Reserve'] = df['Power Reserve'].apply(lambda x:\n",
        "    float(x.replace(' days', '').strip().replace(',', '')) * 24 if isinstance(x, str) and 'days' in x\n",
        "    else float(x.replace(' hours', '').strip().replace(',', '')) if isinstance(x, str)\n",
        "    else x)\n",
        "print(df['Power Reserve'].isna().sum())"
      ],
      "metadata": {
        "colab": {
          "base_uri": "https://localhost:8080/"
        },
        "id": "1AZsl43geFAS",
        "outputId": "d902d436-63fb-40f7-fe8e-0c0529051eab"
      },
      "execution_count": 156,
      "outputs": [
        {
          "output_type": "stream",
          "name": "stdout",
          "text": [
            "14\n"
          ]
        }
      ]
    },
    {
      "cell_type": "code",
      "source": [
        "df['Power Reserve'].unique()"
      ],
      "metadata": {
        "colab": {
          "base_uri": "https://localhost:8080/"
        },
        "id": "H77AYtNTeInp",
        "outputId": "ee4fae29-53ae-4756-9abe-9861a990f14f"
      },
      "execution_count": 157,
      "outputs": [
        {
          "output_type": "execute_result",
          "data": {
            "text/plain": [
              "array([  48.,   60.,   42.,   70.,   nan,   45.,   50., 6480.,   38.,\n",
              "         80.,   64.,   40.,   56., 4200.,  120.,   68.,   54.,   46.,\n",
              "         72.,   44., 5040.,   65.,   43.,   41.,   55.,  168.])"
            ]
          },
          "metadata": {},
          "execution_count": 157
        }
      ]
    },
    {
      "cell_type": "code",
      "source": [
        "df.info()"
      ],
      "metadata": {
        "colab": {
          "base_uri": "https://localhost:8080/"
        },
        "id": "HbCppsz9ec-M",
        "outputId": "289de816-373a-45c4-f2b4-8df60679493d"
      },
      "execution_count": 158,
      "outputs": [
        {
          "output_type": "stream",
          "name": "stdout",
          "text": [
            "<class 'pandas.core.frame.DataFrame'>\n",
            "RangeIndex: 507 entries, 0 to 506\n",
            "Data columns (total 14 columns):\n",
            " #   Column            Non-Null Count  Dtype  \n",
            "---  ------            --------------  -----  \n",
            " 0   Brand             507 non-null    object \n",
            " 1   Model             507 non-null    object \n",
            " 2   Case Material     507 non-null    object \n",
            " 3   Strap Material    507 non-null    object \n",
            " 4   Movement Type     507 non-null    object \n",
            " 5   Water Resistance  507 non-null    float64\n",
            " 6   Case Diameter     507 non-null    float64\n",
            " 7   Case Thickness    507 non-null    float64\n",
            " 8   Band Width        507 non-null    float64\n",
            " 9   Dial Color        507 non-null    object \n",
            " 10  Crystal Material  507 non-null    object \n",
            " 11  Complications     385 non-null    object \n",
            " 12  Power Reserve     493 non-null    float64\n",
            " 13  Price             506 non-null    float64\n",
            "dtypes: float64(6), object(8)\n",
            "memory usage: 55.6+ KB\n"
          ]
        }
      ]
    },
    {
      "cell_type": "code",
      "source": [
        "df[df['Complications'].isna()]"
      ],
      "metadata": {
        "colab": {
          "base_uri": "https://localhost:8080/",
          "height": 652
        },
        "id": "N_l1a8vAhI-k",
        "outputId": "9400a017-1de6-443d-ddac-5ffef12b9c12"
      },
      "execution_count": 159,
      "outputs": [
        {
          "output_type": "execute_result",
          "data": {
            "text/plain": [
              "                Brand              Model    Case Material   Strap Material  \\\n",
              "4             Cartier          Tank Solo  Stainless Steel          Leather   \n",
              "5    Jaeger-LeCoultre            Reverso  Stainless Steel          Leather   \n",
              "9            Hamilton        Khaki Field  Stainless Steel          Leather   \n",
              "14            Breguet          Classique   18k White Gold          Leather   \n",
              "19            Panerai  Luminor Base Logo  Stainless Steel          Leather   \n",
              "..                ...                ...              ...              ...   \n",
              "484  Girard-Perregaux           Laureato  Stainless Steel  Stainless Steel   \n",
              "485       Jaquet Droz     Grande Seconde  Stainless Steel          Leather   \n",
              "491               IWC        Portugieser  Stainless Steel          Leather   \n",
              "497             Tudor          Black Bay  Stainless Steel          Leather   \n",
              "499           Panerai     Luminor Marina         Titanium           Rubber   \n",
              "\n",
              "    Movement Type  Water Resistance  Case Diameter  Case Thickness  \\\n",
              "4          Quartz              30.0           31.0            6.05   \n",
              "5          Manual              30.0           42.9            9.20   \n",
              "9       Automatic             100.0           38.0            9.80   \n",
              "14         Manual              30.0           38.0            8.65   \n",
              "19         Manual             100.0           44.0           10.50   \n",
              "..            ...               ...            ...             ...   \n",
              "484     Automatic             100.0           42.0           10.88   \n",
              "485     Automatic              30.0           43.0           11.48   \n",
              "491     Automatic              30.0           42.3           14.20   \n",
              "497     Automatic             200.0           41.0           14.75   \n",
              "499     Automatic             300.0           44.0           15.65   \n",
              "\n",
              "     Band Width Dial Color Crystal Material Complications  Power Reserve  \\\n",
              "4          20.0     Silver         Sapphire           NaN            NaN   \n",
              "5          20.0      Black         Sapphire           NaN           45.0   \n",
              "9          20.0      Black         Sapphire           NaN           80.0   \n",
              "14         20.0     Silver         Sapphire           NaN           40.0   \n",
              "19         22.0      Black         Sapphire           NaN           56.0   \n",
              "..          ...        ...              ...           ...            ...   \n",
              "484        25.0       Blue         Sapphire           NaN           54.0   \n",
              "485        22.0      White         Sapphire           NaN           68.0   \n",
              "491        22.0       Blue         Sapphire           NaN           60.0   \n",
              "497        22.0      Black         Sapphire           NaN           70.0   \n",
              "499        24.0      Black         Sapphire           NaN           72.0   \n",
              "\n",
              "       Price  \n",
              "4     2800.0  \n",
              "5     5500.0  \n",
              "9      495.0  \n",
              "14   16000.0  \n",
              "19    3900.0  \n",
              "..       ...  \n",
              "484   7500.0  \n",
              "485   8500.0  \n",
              "491   9100.0  \n",
              "497   3800.0  \n",
              "499   9500.0  \n",
              "\n",
              "[122 rows x 14 columns]"
            ],
            "text/html": [
              "\n",
              "  <div id=\"df-ae7b533a-7681-4857-a3b8-b56fff5c3ab4\" class=\"colab-df-container\">\n",
              "    <div>\n",
              "<style scoped>\n",
              "    .dataframe tbody tr th:only-of-type {\n",
              "        vertical-align: middle;\n",
              "    }\n",
              "\n",
              "    .dataframe tbody tr th {\n",
              "        vertical-align: top;\n",
              "    }\n",
              "\n",
              "    .dataframe thead th {\n",
              "        text-align: right;\n",
              "    }\n",
              "</style>\n",
              "<table border=\"1\" class=\"dataframe\">\n",
              "  <thead>\n",
              "    <tr style=\"text-align: right;\">\n",
              "      <th></th>\n",
              "      <th>Brand</th>\n",
              "      <th>Model</th>\n",
              "      <th>Case Material</th>\n",
              "      <th>Strap Material</th>\n",
              "      <th>Movement Type</th>\n",
              "      <th>Water Resistance</th>\n",
              "      <th>Case Diameter</th>\n",
              "      <th>Case Thickness</th>\n",
              "      <th>Band Width</th>\n",
              "      <th>Dial Color</th>\n",
              "      <th>Crystal Material</th>\n",
              "      <th>Complications</th>\n",
              "      <th>Power Reserve</th>\n",
              "      <th>Price</th>\n",
              "    </tr>\n",
              "  </thead>\n",
              "  <tbody>\n",
              "    <tr>\n",
              "      <th>4</th>\n",
              "      <td>Cartier</td>\n",
              "      <td>Tank Solo</td>\n",
              "      <td>Stainless Steel</td>\n",
              "      <td>Leather</td>\n",
              "      <td>Quartz</td>\n",
              "      <td>30.0</td>\n",
              "      <td>31.0</td>\n",
              "      <td>6.05</td>\n",
              "      <td>20.0</td>\n",
              "      <td>Silver</td>\n",
              "      <td>Sapphire</td>\n",
              "      <td>NaN</td>\n",
              "      <td>NaN</td>\n",
              "      <td>2800.0</td>\n",
              "    </tr>\n",
              "    <tr>\n",
              "      <th>5</th>\n",
              "      <td>Jaeger-LeCoultre</td>\n",
              "      <td>Reverso</td>\n",
              "      <td>Stainless Steel</td>\n",
              "      <td>Leather</td>\n",
              "      <td>Manual</td>\n",
              "      <td>30.0</td>\n",
              "      <td>42.9</td>\n",
              "      <td>9.20</td>\n",
              "      <td>20.0</td>\n",
              "      <td>Black</td>\n",
              "      <td>Sapphire</td>\n",
              "      <td>NaN</td>\n",
              "      <td>45.0</td>\n",
              "      <td>5500.0</td>\n",
              "    </tr>\n",
              "    <tr>\n",
              "      <th>9</th>\n",
              "      <td>Hamilton</td>\n",
              "      <td>Khaki Field</td>\n",
              "      <td>Stainless Steel</td>\n",
              "      <td>Leather</td>\n",
              "      <td>Automatic</td>\n",
              "      <td>100.0</td>\n",
              "      <td>38.0</td>\n",
              "      <td>9.80</td>\n",
              "      <td>20.0</td>\n",
              "      <td>Black</td>\n",
              "      <td>Sapphire</td>\n",
              "      <td>NaN</td>\n",
              "      <td>80.0</td>\n",
              "      <td>495.0</td>\n",
              "    </tr>\n",
              "    <tr>\n",
              "      <th>14</th>\n",
              "      <td>Breguet</td>\n",
              "      <td>Classique</td>\n",
              "      <td>18k White Gold</td>\n",
              "      <td>Leather</td>\n",
              "      <td>Manual</td>\n",
              "      <td>30.0</td>\n",
              "      <td>38.0</td>\n",
              "      <td>8.65</td>\n",
              "      <td>20.0</td>\n",
              "      <td>Silver</td>\n",
              "      <td>Sapphire</td>\n",
              "      <td>NaN</td>\n",
              "      <td>40.0</td>\n",
              "      <td>16000.0</td>\n",
              "    </tr>\n",
              "    <tr>\n",
              "      <th>19</th>\n",
              "      <td>Panerai</td>\n",
              "      <td>Luminor Base Logo</td>\n",
              "      <td>Stainless Steel</td>\n",
              "      <td>Leather</td>\n",
              "      <td>Manual</td>\n",
              "      <td>100.0</td>\n",
              "      <td>44.0</td>\n",
              "      <td>10.50</td>\n",
              "      <td>22.0</td>\n",
              "      <td>Black</td>\n",
              "      <td>Sapphire</td>\n",
              "      <td>NaN</td>\n",
              "      <td>56.0</td>\n",
              "      <td>3900.0</td>\n",
              "    </tr>\n",
              "    <tr>\n",
              "      <th>...</th>\n",
              "      <td>...</td>\n",
              "      <td>...</td>\n",
              "      <td>...</td>\n",
              "      <td>...</td>\n",
              "      <td>...</td>\n",
              "      <td>...</td>\n",
              "      <td>...</td>\n",
              "      <td>...</td>\n",
              "      <td>...</td>\n",
              "      <td>...</td>\n",
              "      <td>...</td>\n",
              "      <td>...</td>\n",
              "      <td>...</td>\n",
              "      <td>...</td>\n",
              "    </tr>\n",
              "    <tr>\n",
              "      <th>484</th>\n",
              "      <td>Girard-Perregaux</td>\n",
              "      <td>Laureato</td>\n",
              "      <td>Stainless Steel</td>\n",
              "      <td>Stainless Steel</td>\n",
              "      <td>Automatic</td>\n",
              "      <td>100.0</td>\n",
              "      <td>42.0</td>\n",
              "      <td>10.88</td>\n",
              "      <td>25.0</td>\n",
              "      <td>Blue</td>\n",
              "      <td>Sapphire</td>\n",
              "      <td>NaN</td>\n",
              "      <td>54.0</td>\n",
              "      <td>7500.0</td>\n",
              "    </tr>\n",
              "    <tr>\n",
              "      <th>485</th>\n",
              "      <td>Jaquet Droz</td>\n",
              "      <td>Grande Seconde</td>\n",
              "      <td>Stainless Steel</td>\n",
              "      <td>Leather</td>\n",
              "      <td>Automatic</td>\n",
              "      <td>30.0</td>\n",
              "      <td>43.0</td>\n",
              "      <td>11.48</td>\n",
              "      <td>22.0</td>\n",
              "      <td>White</td>\n",
              "      <td>Sapphire</td>\n",
              "      <td>NaN</td>\n",
              "      <td>68.0</td>\n",
              "      <td>8500.0</td>\n",
              "    </tr>\n",
              "    <tr>\n",
              "      <th>491</th>\n",
              "      <td>IWC</td>\n",
              "      <td>Portugieser</td>\n",
              "      <td>Stainless Steel</td>\n",
              "      <td>Leather</td>\n",
              "      <td>Automatic</td>\n",
              "      <td>30.0</td>\n",
              "      <td>42.3</td>\n",
              "      <td>14.20</td>\n",
              "      <td>22.0</td>\n",
              "      <td>Blue</td>\n",
              "      <td>Sapphire</td>\n",
              "      <td>NaN</td>\n",
              "      <td>60.0</td>\n",
              "      <td>9100.0</td>\n",
              "    </tr>\n",
              "    <tr>\n",
              "      <th>497</th>\n",
              "      <td>Tudor</td>\n",
              "      <td>Black Bay</td>\n",
              "      <td>Stainless Steel</td>\n",
              "      <td>Leather</td>\n",
              "      <td>Automatic</td>\n",
              "      <td>200.0</td>\n",
              "      <td>41.0</td>\n",
              "      <td>14.75</td>\n",
              "      <td>22.0</td>\n",
              "      <td>Black</td>\n",
              "      <td>Sapphire</td>\n",
              "      <td>NaN</td>\n",
              "      <td>70.0</td>\n",
              "      <td>3800.0</td>\n",
              "    </tr>\n",
              "    <tr>\n",
              "      <th>499</th>\n",
              "      <td>Panerai</td>\n",
              "      <td>Luminor Marina</td>\n",
              "      <td>Titanium</td>\n",
              "      <td>Rubber</td>\n",
              "      <td>Automatic</td>\n",
              "      <td>300.0</td>\n",
              "      <td>44.0</td>\n",
              "      <td>15.65</td>\n",
              "      <td>24.0</td>\n",
              "      <td>Black</td>\n",
              "      <td>Sapphire</td>\n",
              "      <td>NaN</td>\n",
              "      <td>72.0</td>\n",
              "      <td>9500.0</td>\n",
              "    </tr>\n",
              "  </tbody>\n",
              "</table>\n",
              "<p>122 rows × 14 columns</p>\n",
              "</div>\n",
              "    <div class=\"colab-df-buttons\">\n",
              "\n",
              "  <div class=\"colab-df-container\">\n",
              "    <button class=\"colab-df-convert\" onclick=\"convertToInteractive('df-ae7b533a-7681-4857-a3b8-b56fff5c3ab4')\"\n",
              "            title=\"Convert this dataframe to an interactive table.\"\n",
              "            style=\"display:none;\">\n",
              "\n",
              "  <svg xmlns=\"http://www.w3.org/2000/svg\" height=\"24px\" viewBox=\"0 -960 960 960\">\n",
              "    <path d=\"M120-120v-720h720v720H120Zm60-500h600v-160H180v160Zm220 220h160v-160H400v160Zm0 220h160v-160H400v160ZM180-400h160v-160H180v160Zm440 0h160v-160H620v160ZM180-180h160v-160H180v160Zm440 0h160v-160H620v160Z\"/>\n",
              "  </svg>\n",
              "    </button>\n",
              "\n",
              "  <style>\n",
              "    .colab-df-container {\n",
              "      display:flex;\n",
              "      gap: 12px;\n",
              "    }\n",
              "\n",
              "    .colab-df-convert {\n",
              "      background-color: #E8F0FE;\n",
              "      border: none;\n",
              "      border-radius: 50%;\n",
              "      cursor: pointer;\n",
              "      display: none;\n",
              "      fill: #1967D2;\n",
              "      height: 32px;\n",
              "      padding: 0 0 0 0;\n",
              "      width: 32px;\n",
              "    }\n",
              "\n",
              "    .colab-df-convert:hover {\n",
              "      background-color: #E2EBFA;\n",
              "      box-shadow: 0px 1px 2px rgba(60, 64, 67, 0.3), 0px 1px 3px 1px rgba(60, 64, 67, 0.15);\n",
              "      fill: #174EA6;\n",
              "    }\n",
              "\n",
              "    .colab-df-buttons div {\n",
              "      margin-bottom: 4px;\n",
              "    }\n",
              "\n",
              "    [theme=dark] .colab-df-convert {\n",
              "      background-color: #3B4455;\n",
              "      fill: #D2E3FC;\n",
              "    }\n",
              "\n",
              "    [theme=dark] .colab-df-convert:hover {\n",
              "      background-color: #434B5C;\n",
              "      box-shadow: 0px 1px 3px 1px rgba(0, 0, 0, 0.15);\n",
              "      filter: drop-shadow(0px 1px 2px rgba(0, 0, 0, 0.3));\n",
              "      fill: #FFFFFF;\n",
              "    }\n",
              "  </style>\n",
              "\n",
              "    <script>\n",
              "      const buttonEl =\n",
              "        document.querySelector('#df-ae7b533a-7681-4857-a3b8-b56fff5c3ab4 button.colab-df-convert');\n",
              "      buttonEl.style.display =\n",
              "        google.colab.kernel.accessAllowed ? 'block' : 'none';\n",
              "\n",
              "      async function convertToInteractive(key) {\n",
              "        const element = document.querySelector('#df-ae7b533a-7681-4857-a3b8-b56fff5c3ab4');\n",
              "        const dataTable =\n",
              "          await google.colab.kernel.invokeFunction('convertToInteractive',\n",
              "                                                    [key], {});\n",
              "        if (!dataTable) return;\n",
              "\n",
              "        const docLinkHtml = 'Like what you see? Visit the ' +\n",
              "          '<a target=\"_blank\" href=https://colab.research.google.com/notebooks/data_table.ipynb>data table notebook</a>'\n",
              "          + ' to learn more about interactive tables.';\n",
              "        element.innerHTML = '';\n",
              "        dataTable['output_type'] = 'display_data';\n",
              "        await google.colab.output.renderOutput(dataTable, element);\n",
              "        const docLink = document.createElement('div');\n",
              "        docLink.innerHTML = docLinkHtml;\n",
              "        element.appendChild(docLink);\n",
              "      }\n",
              "    </script>\n",
              "  </div>\n",
              "\n",
              "\n",
              "<div id=\"df-07d34c7a-f7ce-45d5-8288-97344aabd004\">\n",
              "  <button class=\"colab-df-quickchart\" onclick=\"quickchart('df-07d34c7a-f7ce-45d5-8288-97344aabd004')\"\n",
              "            title=\"Suggest charts\"\n",
              "            style=\"display:none;\">\n",
              "\n",
              "<svg xmlns=\"http://www.w3.org/2000/svg\" height=\"24px\"viewBox=\"0 0 24 24\"\n",
              "     width=\"24px\">\n",
              "    <g>\n",
              "        <path d=\"M19 3H5c-1.1 0-2 .9-2 2v14c0 1.1.9 2 2 2h14c1.1 0 2-.9 2-2V5c0-1.1-.9-2-2-2zM9 17H7v-7h2v7zm4 0h-2V7h2v10zm4 0h-2v-4h2v4z\"/>\n",
              "    </g>\n",
              "</svg>\n",
              "  </button>\n",
              "\n",
              "<style>\n",
              "  .colab-df-quickchart {\n",
              "      --bg-color: #E8F0FE;\n",
              "      --fill-color: #1967D2;\n",
              "      --hover-bg-color: #E2EBFA;\n",
              "      --hover-fill-color: #174EA6;\n",
              "      --disabled-fill-color: #AAA;\n",
              "      --disabled-bg-color: #DDD;\n",
              "  }\n",
              "\n",
              "  [theme=dark] .colab-df-quickchart {\n",
              "      --bg-color: #3B4455;\n",
              "      --fill-color: #D2E3FC;\n",
              "      --hover-bg-color: #434B5C;\n",
              "      --hover-fill-color: #FFFFFF;\n",
              "      --disabled-bg-color: #3B4455;\n",
              "      --disabled-fill-color: #666;\n",
              "  }\n",
              "\n",
              "  .colab-df-quickchart {\n",
              "    background-color: var(--bg-color);\n",
              "    border: none;\n",
              "    border-radius: 50%;\n",
              "    cursor: pointer;\n",
              "    display: none;\n",
              "    fill: var(--fill-color);\n",
              "    height: 32px;\n",
              "    padding: 0;\n",
              "    width: 32px;\n",
              "  }\n",
              "\n",
              "  .colab-df-quickchart:hover {\n",
              "    background-color: var(--hover-bg-color);\n",
              "    box-shadow: 0 1px 2px rgba(60, 64, 67, 0.3), 0 1px 3px 1px rgba(60, 64, 67, 0.15);\n",
              "    fill: var(--button-hover-fill-color);\n",
              "  }\n",
              "\n",
              "  .colab-df-quickchart-complete:disabled,\n",
              "  .colab-df-quickchart-complete:disabled:hover {\n",
              "    background-color: var(--disabled-bg-color);\n",
              "    fill: var(--disabled-fill-color);\n",
              "    box-shadow: none;\n",
              "  }\n",
              "\n",
              "  .colab-df-spinner {\n",
              "    border: 2px solid var(--fill-color);\n",
              "    border-color: transparent;\n",
              "    border-bottom-color: var(--fill-color);\n",
              "    animation:\n",
              "      spin 1s steps(1) infinite;\n",
              "  }\n",
              "\n",
              "  @keyframes spin {\n",
              "    0% {\n",
              "      border-color: transparent;\n",
              "      border-bottom-color: var(--fill-color);\n",
              "      border-left-color: var(--fill-color);\n",
              "    }\n",
              "    20% {\n",
              "      border-color: transparent;\n",
              "      border-left-color: var(--fill-color);\n",
              "      border-top-color: var(--fill-color);\n",
              "    }\n",
              "    30% {\n",
              "      border-color: transparent;\n",
              "      border-left-color: var(--fill-color);\n",
              "      border-top-color: var(--fill-color);\n",
              "      border-right-color: var(--fill-color);\n",
              "    }\n",
              "    40% {\n",
              "      border-color: transparent;\n",
              "      border-right-color: var(--fill-color);\n",
              "      border-top-color: var(--fill-color);\n",
              "    }\n",
              "    60% {\n",
              "      border-color: transparent;\n",
              "      border-right-color: var(--fill-color);\n",
              "    }\n",
              "    80% {\n",
              "      border-color: transparent;\n",
              "      border-right-color: var(--fill-color);\n",
              "      border-bottom-color: var(--fill-color);\n",
              "    }\n",
              "    90% {\n",
              "      border-color: transparent;\n",
              "      border-bottom-color: var(--fill-color);\n",
              "    }\n",
              "  }\n",
              "</style>\n",
              "\n",
              "  <script>\n",
              "    async function quickchart(key) {\n",
              "      const quickchartButtonEl =\n",
              "        document.querySelector('#' + key + ' button');\n",
              "      quickchartButtonEl.disabled = true;  // To prevent multiple clicks.\n",
              "      quickchartButtonEl.classList.add('colab-df-spinner');\n",
              "      try {\n",
              "        const charts = await google.colab.kernel.invokeFunction(\n",
              "            'suggestCharts', [key], {});\n",
              "      } catch (error) {\n",
              "        console.error('Error during call to suggestCharts:', error);\n",
              "      }\n",
              "      quickchartButtonEl.classList.remove('colab-df-spinner');\n",
              "      quickchartButtonEl.classList.add('colab-df-quickchart-complete');\n",
              "    }\n",
              "    (() => {\n",
              "      let quickchartButtonEl =\n",
              "        document.querySelector('#df-07d34c7a-f7ce-45d5-8288-97344aabd004 button');\n",
              "      quickchartButtonEl.style.display =\n",
              "        google.colab.kernel.accessAllowed ? 'block' : 'none';\n",
              "    })();\n",
              "  </script>\n",
              "</div>\n",
              "\n",
              "    </div>\n",
              "  </div>\n"
            ],
            "application/vnd.google.colaboratory.intrinsic+json": {
              "type": "dataframe",
              "repr_error": "0"
            }
          },
          "metadata": {},
          "execution_count": 159
        }
      ]
    },
    {
      "cell_type": "code",
      "source": [
        "df['Complications'] = df['Complications'].fillna('None')\n",
        "df.info()"
      ],
      "metadata": {
        "colab": {
          "base_uri": "https://localhost:8080/"
        },
        "id": "TfkihJGqiNVu",
        "outputId": "95c46147-5221-493c-a8f4-b3eb5bd1a69e"
      },
      "execution_count": 160,
      "outputs": [
        {
          "output_type": "stream",
          "name": "stdout",
          "text": [
            "<class 'pandas.core.frame.DataFrame'>\n",
            "RangeIndex: 507 entries, 0 to 506\n",
            "Data columns (total 14 columns):\n",
            " #   Column            Non-Null Count  Dtype  \n",
            "---  ------            --------------  -----  \n",
            " 0   Brand             507 non-null    object \n",
            " 1   Model             507 non-null    object \n",
            " 2   Case Material     507 non-null    object \n",
            " 3   Strap Material    507 non-null    object \n",
            " 4   Movement Type     507 non-null    object \n",
            " 5   Water Resistance  507 non-null    float64\n",
            " 6   Case Diameter     507 non-null    float64\n",
            " 7   Case Thickness    507 non-null    float64\n",
            " 8   Band Width        507 non-null    float64\n",
            " 9   Dial Color        507 non-null    object \n",
            " 10  Crystal Material  507 non-null    object \n",
            " 11  Complications     507 non-null    object \n",
            " 12  Power Reserve     493 non-null    float64\n",
            " 13  Price             506 non-null    float64\n",
            "dtypes: float64(6), object(8)\n",
            "memory usage: 55.6+ KB\n"
          ]
        }
      ]
    },
    {
      "cell_type": "code",
      "source": [
        "print(df['Case Material'].value_counts())"
      ],
      "metadata": {
        "colab": {
          "base_uri": "https://localhost:8080/"
        },
        "id": "UvuFVZV0o80u",
        "outputId": "dce43545-dd58-48d8-d971-a077d95902d4"
      },
      "execution_count": 161,
      "outputs": [
        {
          "output_type": "stream",
          "name": "stdout",
          "text": [
            "Case Material\n",
            "Stainless Steel           404\n",
            "Titanium                   37\n",
            "Rose Gold                  12\n",
            "18k Rose Gold              10\n",
            "Ceramic                     9\n",
            "White Gold                  9\n",
            "18k White Gold              7\n",
            "18K White Gold              5\n",
            "18K Rose Gold               3\n",
            "Carbon Fiber                3\n",
            "18K Yellow Gold             2\n",
            "German Submarine Steel      1\n",
            "High-Tech Ceramic           1\n",
            "Bronze                      1\n",
            "Yellow Gold                 1\n",
            "18k King Gold               1\n",
            "18k Yellow Gold             1\n",
            "Name: count, dtype: int64\n"
          ]
        }
      ]
    },
    {
      "cell_type": "code",
      "source": [
        "df['Case Material'] = df['Case Material'].str.lower()\n",
        "\n",
        "def normalize_case_material(x):\n",
        "    if 'rose gold' in x or 'king gold' in x:\n",
        "        return 'Rose Gold'\n",
        "    elif 'white gold' in x:\n",
        "        return 'White Gold'\n",
        "    elif 'yellow gold' in x:\n",
        "        return 'Yellow Gold'\n",
        "    elif 'steel' in x:\n",
        "        return 'Stainless Steel'\n",
        "    elif 'titanium' in x:\n",
        "        return 'Titanium'\n",
        "    elif 'ceramic' in x:\n",
        "        return 'Ceramic'\n",
        "    elif 'carbon' in x:\n",
        "        return 'Carbon Fiber'\n",
        "    elif 'bronze' in x:\n",
        "        return 'Bronze'\n",
        "    else:\n",
        "        return x.title()\n",
        "\n",
        "df['Case Material'] = df['Case Material'].apply(normalize_case_material)\n",
        "\n",
        "print(df['Case Material'].value_counts())"
      ],
      "metadata": {
        "colab": {
          "base_uri": "https://localhost:8080/"
        },
        "id": "8yIfkBuguFBU",
        "outputId": "37f54b13-12a3-4171-86b2-537183fa3b15"
      },
      "execution_count": 162,
      "outputs": [
        {
          "output_type": "stream",
          "name": "stdout",
          "text": [
            "Case Material\n",
            "Stainless Steel    405\n",
            "Titanium            37\n",
            "Rose Gold           26\n",
            "White Gold          21\n",
            "Ceramic             10\n",
            "Yellow Gold          4\n",
            "Carbon Fiber         3\n",
            "Bronze               1\n",
            "Name: count, dtype: int64\n"
          ]
        }
      ]
    },
    {
      "cell_type": "code",
      "source": [
        "df['Strap Material'].value_counts()"
      ],
      "metadata": {
        "colab": {
          "base_uri": "https://localhost:8080/",
          "height": 554
        },
        "id": "MiwOPe_GvUjs",
        "outputId": "63da4b28-7d8f-4a26-b25f-5aa80e31718a"
      },
      "execution_count": 163,
      "outputs": [
        {
          "output_type": "execute_result",
          "data": {
            "text/plain": [
              "Strap Material\n",
              "Leather             224\n",
              "Stainless Steel     166\n",
              "Rubber               74\n",
              "Fabric               11\n",
              "Canvas               10\n",
              "Silicone              5\n",
              "NATO Strap            4\n",
              "Jubilee Bracelet      3\n",
              "Jubilee               2\n",
              "Alligator             2\n",
              "Rose Gold             2\n",
              "Titanium              2\n",
              "Textile               1\n",
              "NATO strap            1\n",
              "Name: count, dtype: int64"
            ],
            "text/html": [
              "<div>\n",
              "<style scoped>\n",
              "    .dataframe tbody tr th:only-of-type {\n",
              "        vertical-align: middle;\n",
              "    }\n",
              "\n",
              "    .dataframe tbody tr th {\n",
              "        vertical-align: top;\n",
              "    }\n",
              "\n",
              "    .dataframe thead th {\n",
              "        text-align: right;\n",
              "    }\n",
              "</style>\n",
              "<table border=\"1\" class=\"dataframe\">\n",
              "  <thead>\n",
              "    <tr style=\"text-align: right;\">\n",
              "      <th></th>\n",
              "      <th>count</th>\n",
              "    </tr>\n",
              "    <tr>\n",
              "      <th>Strap Material</th>\n",
              "      <th></th>\n",
              "    </tr>\n",
              "  </thead>\n",
              "  <tbody>\n",
              "    <tr>\n",
              "      <th>Leather</th>\n",
              "      <td>224</td>\n",
              "    </tr>\n",
              "    <tr>\n",
              "      <th>Stainless Steel</th>\n",
              "      <td>166</td>\n",
              "    </tr>\n",
              "    <tr>\n",
              "      <th>Rubber</th>\n",
              "      <td>74</td>\n",
              "    </tr>\n",
              "    <tr>\n",
              "      <th>Fabric</th>\n",
              "      <td>11</td>\n",
              "    </tr>\n",
              "    <tr>\n",
              "      <th>Canvas</th>\n",
              "      <td>10</td>\n",
              "    </tr>\n",
              "    <tr>\n",
              "      <th>Silicone</th>\n",
              "      <td>5</td>\n",
              "    </tr>\n",
              "    <tr>\n",
              "      <th>NATO Strap</th>\n",
              "      <td>4</td>\n",
              "    </tr>\n",
              "    <tr>\n",
              "      <th>Jubilee Bracelet</th>\n",
              "      <td>3</td>\n",
              "    </tr>\n",
              "    <tr>\n",
              "      <th>Jubilee</th>\n",
              "      <td>2</td>\n",
              "    </tr>\n",
              "    <tr>\n",
              "      <th>Alligator</th>\n",
              "      <td>2</td>\n",
              "    </tr>\n",
              "    <tr>\n",
              "      <th>Rose Gold</th>\n",
              "      <td>2</td>\n",
              "    </tr>\n",
              "    <tr>\n",
              "      <th>Titanium</th>\n",
              "      <td>2</td>\n",
              "    </tr>\n",
              "    <tr>\n",
              "      <th>Textile</th>\n",
              "      <td>1</td>\n",
              "    </tr>\n",
              "    <tr>\n",
              "      <th>NATO strap</th>\n",
              "      <td>1</td>\n",
              "    </tr>\n",
              "  </tbody>\n",
              "</table>\n",
              "</div><br><label><b>dtype:</b> int64</label>"
            ]
          },
          "metadata": {},
          "execution_count": 163
        }
      ]
    },
    {
      "cell_type": "code",
      "source": [
        "df['Strap Material'] = df['Strap Material'].str.lower()\n",
        "\n",
        "def normalize_strap_material(x):\n",
        "    if 'leather' in x:\n",
        "        return 'Leather'\n",
        "    elif 'steel' in x:\n",
        "        return 'Steel'\n",
        "    elif 'rubber' in x:\n",
        "        return 'Rubber'\n",
        "    elif 'fabric' in x:\n",
        "        return 'Fabric'\n",
        "    elif 'canvas' in x:\n",
        "        return 'Canvas'\n",
        "    elif 'nato' in x:\n",
        "        return 'Nato'\n",
        "    elif 'jubilee' in x:\n",
        "        return 'Jubilee'\n",
        "    elif 'alligator' in x:\n",
        "        return 'Alligator'\n",
        "    elif 'rose gold' in x:\n",
        "        return 'Rose Gold'\n",
        "    elif 'titanium' in x:\n",
        "        return 'Titanium'\n",
        "    elif 'Textile' in x:\n",
        "        return 'Textile'\n",
        "    else:\n",
        "        return x.title()\n",
        "\n",
        "df['Strap Material'] = df['Strap Material'].apply(normalize_strap_material)\n",
        "\n",
        "print(df['Strap Material'].value_counts())"
      ],
      "metadata": {
        "colab": {
          "base_uri": "https://localhost:8080/"
        },
        "id": "rwCfJESbxc-4",
        "outputId": "d9af1599-0842-4716-e2e6-34d1f356b822"
      },
      "execution_count": 164,
      "outputs": [
        {
          "output_type": "stream",
          "name": "stdout",
          "text": [
            "Strap Material\n",
            "Leather      224\n",
            "Steel        166\n",
            "Rubber        74\n",
            "Fabric        11\n",
            "Canvas        10\n",
            "Nato           5\n",
            "Jubilee        5\n",
            "Silicone       5\n",
            "Titanium       2\n",
            "Alligator      2\n",
            "Rose Gold      2\n",
            "Textile        1\n",
            "Name: count, dtype: int64\n"
          ]
        }
      ]
    },
    {
      "cell_type": "code",
      "source": [
        "df['Movement Type'].value_counts()"
      ],
      "metadata": {
        "colab": {
          "base_uri": "https://localhost:8080/",
          "height": 241
        },
        "id": "5CaOnEG3y7Zh",
        "outputId": "bb78b837-a7b2-4222-ca82-d010050afd63"
      },
      "execution_count": 165,
      "outputs": [
        {
          "output_type": "execute_result",
          "data": {
            "text/plain": [
              "Movement Type\n",
              "Automatic    442\n",
              "Manual        51\n",
              "Quartz        12\n",
              "Eco-Drive      2\n",
              "Name: count, dtype: int64"
            ],
            "text/html": [
              "<div>\n",
              "<style scoped>\n",
              "    .dataframe tbody tr th:only-of-type {\n",
              "        vertical-align: middle;\n",
              "    }\n",
              "\n",
              "    .dataframe tbody tr th {\n",
              "        vertical-align: top;\n",
              "    }\n",
              "\n",
              "    .dataframe thead th {\n",
              "        text-align: right;\n",
              "    }\n",
              "</style>\n",
              "<table border=\"1\" class=\"dataframe\">\n",
              "  <thead>\n",
              "    <tr style=\"text-align: right;\">\n",
              "      <th></th>\n",
              "      <th>count</th>\n",
              "    </tr>\n",
              "    <tr>\n",
              "      <th>Movement Type</th>\n",
              "      <th></th>\n",
              "    </tr>\n",
              "  </thead>\n",
              "  <tbody>\n",
              "    <tr>\n",
              "      <th>Automatic</th>\n",
              "      <td>442</td>\n",
              "    </tr>\n",
              "    <tr>\n",
              "      <th>Manual</th>\n",
              "      <td>51</td>\n",
              "    </tr>\n",
              "    <tr>\n",
              "      <th>Quartz</th>\n",
              "      <td>12</td>\n",
              "    </tr>\n",
              "    <tr>\n",
              "      <th>Eco-Drive</th>\n",
              "      <td>2</td>\n",
              "    </tr>\n",
              "  </tbody>\n",
              "</table>\n",
              "</div><br><label><b>dtype:</b> int64</label>"
            ]
          },
          "metadata": {},
          "execution_count": 165
        }
      ]
    },
    {
      "cell_type": "code",
      "source": [
        "df['Dial Color'].value_counts()"
      ],
      "metadata": {
        "colab": {
          "base_uri": "https://localhost:8080/",
          "height": 335
        },
        "id": "974fCvXZze9D",
        "outputId": "1d8399e2-f2e3-4078-d9f1-9d41ac083e95"
      },
      "execution_count": 166,
      "outputs": [
        {
          "output_type": "execute_result",
          "data": {
            "text/plain": [
              "Dial Color\n",
              "Black        217\n",
              "Blue         136\n",
              "Silver       118\n",
              "White         33\n",
              "Ivory          1\n",
              "Champagne      1\n",
              "Grey           1\n",
              "Name: count, dtype: int64"
            ],
            "text/html": [
              "<div>\n",
              "<style scoped>\n",
              "    .dataframe tbody tr th:only-of-type {\n",
              "        vertical-align: middle;\n",
              "    }\n",
              "\n",
              "    .dataframe tbody tr th {\n",
              "        vertical-align: top;\n",
              "    }\n",
              "\n",
              "    .dataframe thead th {\n",
              "        text-align: right;\n",
              "    }\n",
              "</style>\n",
              "<table border=\"1\" class=\"dataframe\">\n",
              "  <thead>\n",
              "    <tr style=\"text-align: right;\">\n",
              "      <th></th>\n",
              "      <th>count</th>\n",
              "    </tr>\n",
              "    <tr>\n",
              "      <th>Dial Color</th>\n",
              "      <th></th>\n",
              "    </tr>\n",
              "  </thead>\n",
              "  <tbody>\n",
              "    <tr>\n",
              "      <th>Black</th>\n",
              "      <td>217</td>\n",
              "    </tr>\n",
              "    <tr>\n",
              "      <th>Blue</th>\n",
              "      <td>136</td>\n",
              "    </tr>\n",
              "    <tr>\n",
              "      <th>Silver</th>\n",
              "      <td>118</td>\n",
              "    </tr>\n",
              "    <tr>\n",
              "      <th>White</th>\n",
              "      <td>33</td>\n",
              "    </tr>\n",
              "    <tr>\n",
              "      <th>Ivory</th>\n",
              "      <td>1</td>\n",
              "    </tr>\n",
              "    <tr>\n",
              "      <th>Champagne</th>\n",
              "      <td>1</td>\n",
              "    </tr>\n",
              "    <tr>\n",
              "      <th>Grey</th>\n",
              "      <td>1</td>\n",
              "    </tr>\n",
              "  </tbody>\n",
              "</table>\n",
              "</div><br><label><b>dtype:</b> int64</label>"
            ]
          },
          "metadata": {},
          "execution_count": 166
        }
      ]
    },
    {
      "cell_type": "code",
      "source": [
        "df['Crystal Material'].value_counts()"
      ],
      "metadata": {
        "colab": {
          "base_uri": "https://localhost:8080/",
          "height": 241
        },
        "id": "o5FJmm0EzlFg",
        "outputId": "c3007105-ec81-48c8-86c8-a63d00717edd"
      },
      "execution_count": 167,
      "outputs": [
        {
          "output_type": "execute_result",
          "data": {
            "text/plain": [
              "Crystal Material\n",
              "Sapphire    489\n",
              "Hesalite     13\n",
              "Hardlex       3\n",
              "Mineral       2\n",
              "Name: count, dtype: int64"
            ],
            "text/html": [
              "<div>\n",
              "<style scoped>\n",
              "    .dataframe tbody tr th:only-of-type {\n",
              "        vertical-align: middle;\n",
              "    }\n",
              "\n",
              "    .dataframe tbody tr th {\n",
              "        vertical-align: top;\n",
              "    }\n",
              "\n",
              "    .dataframe thead th {\n",
              "        text-align: right;\n",
              "    }\n",
              "</style>\n",
              "<table border=\"1\" class=\"dataframe\">\n",
              "  <thead>\n",
              "    <tr style=\"text-align: right;\">\n",
              "      <th></th>\n",
              "      <th>count</th>\n",
              "    </tr>\n",
              "    <tr>\n",
              "      <th>Crystal Material</th>\n",
              "      <th></th>\n",
              "    </tr>\n",
              "  </thead>\n",
              "  <tbody>\n",
              "    <tr>\n",
              "      <th>Sapphire</th>\n",
              "      <td>489</td>\n",
              "    </tr>\n",
              "    <tr>\n",
              "      <th>Hesalite</th>\n",
              "      <td>13</td>\n",
              "    </tr>\n",
              "    <tr>\n",
              "      <th>Hardlex</th>\n",
              "      <td>3</td>\n",
              "    </tr>\n",
              "    <tr>\n",
              "      <th>Mineral</th>\n",
              "      <td>2</td>\n",
              "    </tr>\n",
              "  </tbody>\n",
              "</table>\n",
              "</div><br><label><b>dtype:</b> int64</label>"
            ]
          },
          "metadata": {},
          "execution_count": 167
        }
      ]
    },
    {
      "cell_type": "code",
      "source": [
        "df.info()"
      ],
      "metadata": {
        "colab": {
          "base_uri": "https://localhost:8080/"
        },
        "id": "qFQTOyItzsMa",
        "outputId": "f9f64f50-95a1-4c77-c597-1804370b6290"
      },
      "execution_count": 168,
      "outputs": [
        {
          "output_type": "stream",
          "name": "stdout",
          "text": [
            "<class 'pandas.core.frame.DataFrame'>\n",
            "RangeIndex: 507 entries, 0 to 506\n",
            "Data columns (total 14 columns):\n",
            " #   Column            Non-Null Count  Dtype  \n",
            "---  ------            --------------  -----  \n",
            " 0   Brand             507 non-null    object \n",
            " 1   Model             507 non-null    object \n",
            " 2   Case Material     507 non-null    object \n",
            " 3   Strap Material    507 non-null    object \n",
            " 4   Movement Type     507 non-null    object \n",
            " 5   Water Resistance  507 non-null    float64\n",
            " 6   Case Diameter     507 non-null    float64\n",
            " 7   Case Thickness    507 non-null    float64\n",
            " 8   Band Width        507 non-null    float64\n",
            " 9   Dial Color        507 non-null    object \n",
            " 10  Crystal Material  507 non-null    object \n",
            " 11  Complications     507 non-null    object \n",
            " 12  Power Reserve     493 non-null    float64\n",
            " 13  Price             506 non-null    float64\n",
            "dtypes: float64(6), object(8)\n",
            "memory usage: 55.6+ KB\n"
          ]
        }
      ]
    },
    {
      "cell_type": "code",
      "source": [
        "category_col = ['Case Material', 'Strap Material', 'Movement Type', 'Dial Color', 'Crystal Material']\n",
        "df[category_col] = df[category_col].astype('category')\n",
        "df.info()"
      ],
      "metadata": {
        "colab": {
          "base_uri": "https://localhost:8080/"
        },
        "id": "wqCrLDqMzwKe",
        "outputId": "8a0aaac3-f792-48c4-91f0-16bce0dd37bf"
      },
      "execution_count": 169,
      "outputs": [
        {
          "output_type": "stream",
          "name": "stdout",
          "text": [
            "<class 'pandas.core.frame.DataFrame'>\n",
            "RangeIndex: 507 entries, 0 to 506\n",
            "Data columns (total 14 columns):\n",
            " #   Column            Non-Null Count  Dtype   \n",
            "---  ------            --------------  -----   \n",
            " 0   Brand             507 non-null    object  \n",
            " 1   Model             507 non-null    object  \n",
            " 2   Case Material     507 non-null    category\n",
            " 3   Strap Material    507 non-null    category\n",
            " 4   Movement Type     507 non-null    category\n",
            " 5   Water Resistance  507 non-null    float64 \n",
            " 6   Case Diameter     507 non-null    float64 \n",
            " 7   Case Thickness    507 non-null    float64 \n",
            " 8   Band Width        507 non-null    float64 \n",
            " 9   Dial Color        507 non-null    category\n",
            " 10  Crystal Material  507 non-null    category\n",
            " 11  Complications     507 non-null    object  \n",
            " 12  Power Reserve     493 non-null    float64 \n",
            " 13  Price             506 non-null    float64 \n",
            "dtypes: category(5), float64(6), object(3)\n",
            "memory usage: 39.7+ KB\n"
          ]
        }
      ]
    },
    {
      "cell_type": "code",
      "source": [
        "df['Power Reserve'] = df['Power Reserve'].fillna(df['Power Reserve'].median())\n",
        "df['Price'] = df['Price'].fillna(df['Price'].median())\n",
        "df.info()"
      ],
      "metadata": {
        "colab": {
          "base_uri": "https://localhost:8080/"
        },
        "id": "469MCLIw1S6y",
        "outputId": "9e223dc6-4606-457f-8162-dea5ce51d9c0"
      },
      "execution_count": 170,
      "outputs": [
        {
          "output_type": "stream",
          "name": "stdout",
          "text": [
            "<class 'pandas.core.frame.DataFrame'>\n",
            "RangeIndex: 507 entries, 0 to 506\n",
            "Data columns (total 14 columns):\n",
            " #   Column            Non-Null Count  Dtype   \n",
            "---  ------            --------------  -----   \n",
            " 0   Brand             507 non-null    object  \n",
            " 1   Model             507 non-null    object  \n",
            " 2   Case Material     507 non-null    category\n",
            " 3   Strap Material    507 non-null    category\n",
            " 4   Movement Type     507 non-null    category\n",
            " 5   Water Resistance  507 non-null    float64 \n",
            " 6   Case Diameter     507 non-null    float64 \n",
            " 7   Case Thickness    507 non-null    float64 \n",
            " 8   Band Width        507 non-null    float64 \n",
            " 9   Dial Color        507 non-null    category\n",
            " 10  Crystal Material  507 non-null    category\n",
            " 11  Complications     507 non-null    object  \n",
            " 12  Power Reserve     507 non-null    float64 \n",
            " 13  Price             507 non-null    float64 \n",
            "dtypes: category(5), float64(6), object(3)\n",
            "memory usage: 39.7+ KB\n"
          ]
        }
      ]
    }
  ]
}