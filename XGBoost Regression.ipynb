{
 "cells": [
  {
   "cell_type": "markdown",
   "metadata": {},
   "source": [
    "# XGBoost Regression\n",
    "This notebook demonstrates the use of XGBoost for regression tasks."
   ]
  },
  {
   "cell_type": "markdown",
   "metadata": {},
   "source": [
    "## Import Libraries\n",
    "Import necessary libraries for data manipulation, visualization, and modeling."
   ]
  },
  {
   "cell_type": "code",
   "execution_count": 1,
   "metadata": {
    "executionInfo": {
     "elapsed": 8,
     "status": "ok",
     "timestamp": 1746185514136,
     "user": {
      "displayName": "Huy Nguyễn",
      "userId": "12056843051819236081"
     },
     "user_tz": -420
    },
    "id": "NQ-ddnshwr97"
   },
   "outputs": [],
   "source": [
    "import pandas as pd\n",
    "import seaborn as sns\n",
    "import matplotlib.pyplot as plt\n",
    "import numpy as np"
   ]
  },
  {
   "cell_type": "markdown",
   "metadata": {},
   "source": [
    "## Load Dataset\n",
    "Load the dataset and inspect its structure."
   ]
  },
  {
   "cell_type": "code",
   "execution_count": 2,
   "metadata": {
    "colab": {
     "base_uri": "https://localhost:8080/"
    },
    "executionInfo": {
     "elapsed": 72,
     "status": "ok",
     "timestamp": 1746185514207,
     "user": {
      "displayName": "Huy Nguyễn",
      "userId": "12056843051819236081"
     },
     "user_tz": -420
    },
    "id": "z0I6CQWlw2F3",
    "outputId": "bc0d0687-d886-4950-d0f6-c442d642847e"
   },
   "outputs": [
    {
     "data": {
      "text/plain": [
       "Index(['Brand', 'Model', 'Case Material', 'Strap Material', 'Crystal Material',\n",
       "       'Dial Color', 'Case Diameter', 'Case Thickness', 'Band Width',\n",
       "       'Case_Size_Category', 'Case_Proportion', 'Movement Type',\n",
       "       'Movement_Complexity', 'Power Reserve', 'Complications',\n",
       "       'Has_Complication', 'Water Resistance', 'Water_Tier', 'Dial_Score',\n",
       "       'Complication_Score', 'Material_Match', 'Luxury_Index', 'Brand_Tier',\n",
       "       'Model_Tier', 'Brand_Tier_label_encoded', 'Model_Tier_label_encoded',\n",
       "       'Brand_Tier_target_encoded', 'Model_Tier_target_encoded', 'Brand_Case',\n",
       "       'Brand_Crystal', 'Material_Crystal_Movement', 'Price'],\n",
       "      dtype='object')"
      ]
     },
     "execution_count": 2,
     "metadata": {},
     "output_type": "execute_result"
    }
   ],
   "source": [
    "df = pd.read_csv('datasets/luxury_watches_featured.csv')\n",
    "df.columns"
   ]
  },
  {
   "cell_type": "code",
   "execution_count": 3,
   "metadata": {
    "executionInfo": {
     "elapsed": 8,
     "status": "ok",
     "timestamp": 1746185514213,
     "user": {
      "displayName": "Huy Nguyễn",
      "userId": "12056843051819236081"
     },
     "user_tz": -420
    },
    "id": "6PyB5XrSps-T"
   },
   "outputs": [],
   "source": [
    "num_columns = [\n",
    "    'Price',\n",
    "    'Luxury_Index', 'Brand_Tier_label_encoded','Model_Tier_label_encoded', 'Brand_Tier_target_encoded','Model_Tier_target_encoded',\n",
    "    'Case_Proportion', 'Brand_Case', 'Brand_Crystal', 'Material_Crystal_Movement',\n",
    "    'Dial_Score', 'Power Reserve'\n",
    "]"
   ]
  },
  {
   "cell_type": "code",
   "execution_count": 4,
   "metadata": {
    "executionInfo": {
     "elapsed": 10,
     "status": "ok",
     "timestamp": 1746185514217,
     "user": {
      "displayName": "Huy Nguyễn",
      "userId": "12056843051819236081"
     },
     "user_tz": -420
    },
    "id": "_SjLiabEp1q_"
   },
   "outputs": [],
   "source": [
    "# plt.figure(figsize=(8,8))\n",
    "# corr_matrix = df[num_columns].corr()\n",
    "# sns.heatmap(corr_matrix, annot=True, cmap='coolwarm')\n",
    "# plt.show()"
   ]
  },
  {
   "cell_type": "code",
   "execution_count": 5,
   "metadata": {
    "colab": {
     "base_uri": "https://localhost:8080/",
     "height": 460
    },
    "executionInfo": {
     "elapsed": 11,
     "status": "ok",
     "timestamp": 1746185514218,
     "user": {
      "displayName": "Huy Nguyễn",
      "userId": "12056843051819236081"
     },
     "user_tz": -420
    },
    "id": "5Ij-Y8qhqtcJ",
    "outputId": "367004ca-a207-40f1-9e90-b4356329c9e6"
   },
   "outputs": [
    {
     "data": {
      "text/plain": [
       "Price                        1.000000\n",
       "Luxury_Index                 0.051905\n",
       "Brand_Tier_label_encoded     0.513461\n",
       "Model_Tier_label_encoded     0.411628\n",
       "Brand_Tier_target_encoded    0.789664\n",
       "Model_Tier_target_encoded    0.768290\n",
       "Case_Proportion              0.415430\n",
       "Brand_Case                   0.580539\n",
       "Brand_Crystal                0.526944\n",
       "Material_Crystal_Movement    0.386074\n",
       "Dial_Score                   0.319139\n",
       "Power Reserve                0.018499\n",
       "Name: Price, dtype: float64"
      ]
     },
     "execution_count": 5,
     "metadata": {},
     "output_type": "execute_result"
    }
   ],
   "source": [
    "corr_matrix = df[num_columns].corr()['Price']\n",
    "corr_matrix"
   ]
  },
  {
   "cell_type": "markdown",
   "metadata": {},
   "source": [
    "## Train XGBoost Model\n",
    "Train the XGBoost model using the training dataset."
   ]
  },
  {
   "cell_type": "code",
   "execution_count": 6,
   "metadata": {
    "executionInfo": {
     "elapsed": 2,
     "status": "ok",
     "timestamp": 1746185514218,
     "user": {
      "displayName": "Huy Nguyễn",
      "userId": "12056843051819236081"
     },
     "user_tz": -420
    },
    "id": "VC0oWc74xZRL"
   },
   "outputs": [],
   "source": [
    "import xgboost as xgb\n",
    "from sklearn.model_selection import train_test_split, GridSearchCV\n",
    "from sklearn.metrics import r2_score, mean_squared_error, mean_absolute_error, make_scorer\n",
    "from sklearn.inspection import permutation_importance"
   ]
  },
  {
   "cell_type": "code",
   "execution_count": 7,
   "metadata": {
    "colab": {
     "base_uri": "https://localhost:8080/"
    },
    "executionInfo": {
     "elapsed": 1121,
     "status": "ok",
     "timestamp": 1746186585730,
     "user": {
      "displayName": "Huy Nguyễn",
      "userId": "12056843051819236081"
     },
     "user_tz": -420
    },
    "id": "jJbMmB2pxcc9",
    "outputId": "8d34f27c-9695-493c-bb48-bbf6229d4295"
   },
   "outputs": [
    {
     "name": "stdout",
     "output_type": "stream",
     "text": [
      "                      feature    importance\n",
      "1    Brand_Tier_label_encoded  8.216974e-01\n",
      "5             Case_Proportion  3.590044e-01\n",
      "0                Luxury_Index  2.985981e-01\n",
      "10              Power Reserve  8.844768e-02\n",
      "6                  Brand_Case  6.721090e-02\n",
      "4   Model_Tier_target_encoded  3.989677e-02\n",
      "9                  Dial_Score  3.374516e-02\n",
      "2    Model_Tier_label_encoded  1.963217e-02\n",
      "8   Material_Crystal_Movement  8.710846e-03\n",
      "3   Brand_Tier_target_encoded  4.914906e-03\n",
      "7               Brand_Crystal  2.644730e-07\n",
      "R2 Score: 0.8541\n",
      "RMSE: 2712.8225\n",
      "MAE: 1912.1283\n"
     ]
    }
   ],
   "source": [
    "X = df[[\n",
    "    'Luxury_Index', 'Brand_Tier_label_encoded','Model_Tier_label_encoded', 'Brand_Tier_target_encoded','Model_Tier_target_encoded',\n",
    "    'Case_Proportion', 'Brand_Case', 'Brand_Crystal', 'Material_Crystal_Movement',\n",
    "    'Dial_Score', 'Power Reserve'\n",
    "]]\n",
    "\n",
    "y = df['Price']\n",
    "\n",
    "X_train, X_test, y_train, y_test = train_test_split(X, y, test_size=0.2, random_state=42)\n",
    "\n",
    "model = xgb.XGBRegressor(random_state=42)\n",
    "\n",
    "model.fit(X_train, y_train)\n",
    "\n",
    "y_pred = model.predict(X_test)\n",
    "\n",
    "r2 = r2_score(y_test, y_pred)\n",
    "rmse = np.sqrt(mean_squared_error(y_test, y_pred))\n",
    "mae = mean_absolute_error(y_test, y_pred)\n",
    "\n",
    "perm = permutation_importance(model, X_train, y_train, n_repeats=10, random_state=42)\n",
    "importances = pd.DataFrame({'feature': X_train.columns, 'importance': perm.importances_mean})\n",
    "importances = importances.sort_values('importance', ascending=False)\n",
    "\n",
    "print(importances)\n",
    "\n",
    "print(f'R2 Score: {r2:.4f}')\n",
    "print(f'RMSE: {rmse:.4f}')\n",
    "print(f'MAE: {mae:.4f}')"
   ]
  },
  {
   "cell_type": "code",
   "execution_count": 8,
   "metadata": {
    "colab": {
     "base_uri": "https://localhost:8080/",
     "height": 452
    },
    "executionInfo": {
     "elapsed": 362,
     "status": "ok",
     "timestamp": 1746186592828,
     "user": {
      "displayName": "Huy Nguyễn",
      "userId": "12056843051819236081"
     },
     "user_tz": -420
    },
    "id": "YcpiWabnhL24",
    "outputId": "93ca358b-2577-43a9-99d7-7271cda84470"
   },
   "outputs": [
    {
     "data": {
      "image/png": "[encoded data removed]",
      "text/plain": [
       "<Figure size 640x480 with 1 Axes>"
      ]
     },
     "metadata": {},
     "output_type": "display_data"
    }
   ],
   "source": [
    "# importances = model.feature_importances_\n",
    "# features = X.columns\n",
    "plt.barh(importances['feature'], importances['importance'])\n",
    "plt.title(\"Feature Importances\")\n",
    "plt.show()"
   ]
  },
  {
   "cell_type": "markdown",
   "metadata": {},
   "source": [
    "## Fine-Tune XGBoost Model\n",
    "Perform hyperparameter tuning to find the best parameters for the XGBoost model."
   ]
  },
  {
   "cell_type": "code",
   "execution_count": 9,
   "metadata": {
    "colab": {
     "base_uri": "https://localhost:8080/"
    },
    "executionInfo": {
     "elapsed": 85433,
     "status": "ok",
     "timestamp": 1746186867403,
     "user": {
      "displayName": "Huy Nguyễn",
      "userId": "12056843051819236081"
     },
     "user_tz": -420
    },
    "id": "noe7EVLLxxRb",
    "outputId": "532f14c0-8d20-4686-d8ae-cad1c820d386"
   },
   "outputs": [
    {
     "name": "stdout",
     "output_type": "stream",
     "text": [
      "Fitting 3 folds for each of 243 candidates, totalling 729 fits\n",
      "Best Parameters: {'colsample_bytree': 0.7, 'learning_rate': 0.05, 'max_depth': 4, 'n_estimators': 300, 'subsample': 0.8}\n",
      "Best R2 Score: 0.8876\n",
      "R2 Score: 0.8718\n",
      "RMSE: 2542.6953\n",
      "MAE: 1882.0742\n"
     ]
    }
   ],
   "source": [
    "scorer = make_scorer(r2_score)\n",
    "\n",
    "xgb_model = xgb.XGBRegressor(random_state=42)\n",
    "\n",
    "param_grid = {\n",
    "    'n_estimators': [100, 200, 300],\n",
    "    'max_depth': [4, 6, 8],\n",
    "    'learning_rate': [0.01, 0.05, 0.1],\n",
    "    'subsample': [0.7, 0.8, 0.9],\n",
    "    'colsample_bytree': [0.7, 0.8, 0.9]\n",
    "}\n",
    "\n",
    "grid_search = GridSearchCV(estimator=xgb_model, param_grid=param_grid,\n",
    "                           scoring=scorer, cv=3, n_jobs=-1, verbose=1)\n",
    "\n",
    "grid_search.fit(X_train, y_train)\n",
    "\n",
    "print(f'Best Parameters: {grid_search.best_params_}')\n",
    "print(f'Best R2 Score: {grid_search.best_score_:.4f}')\n",
    "\n",
    "best_model = grid_search.best_estimator_\n",
    "y_pred = best_model.predict(X_test)\n",
    "\n",
    "r2 = r2_score(y_test, y_pred)\n",
    "rmse = np.sqrt(mean_squared_error(y_test, y_pred))\n",
    "mae = mean_absolute_error(y_test, y_pred)\n",
    "\n",
    "print(f'R2 Score: {r2:.4f}')\n",
    "print(f'RMSE: {rmse:.4f}')\n",
    "print(f'MAE: {mae:.4f}')"
   ]
  },
  {
   "cell_type": "markdown",
   "metadata": {},
   "source": [
    "## Evaluate XGBoost Model\n",
    "Evaluate the model's performance using the best parameters obtained from fine-tuning."
   ]
  },
  {
   "cell_type": "code",
   "execution_count": 10,
   "metadata": {
    "colab": {
     "base_uri": "https://localhost:8080/"
    },
    "executionInfo": {
     "elapsed": 583,
     "status": "ok",
     "timestamp": 1746186966417,
     "user": {
      "displayName": "Huy Nguyễn",
      "userId": "12056843051819236081"
     },
     "user_tz": -420
    },
    "id": "FPGxxW94yDmC",
    "outputId": "0360e2be-5409-44d4-d637-6a39119ba6a0"
   },
   "outputs": [
    {
     "name": "stdout",
     "output_type": "stream",
     "text": [
      "R2 Score: 0.8718\n",
      "RMSE: 2542.6953\n",
      "MAE: 1882.0742\n"
     ]
    }
   ],
   "source": [
    "best_xgb_model = xgb.XGBRegressor(\n",
    "    n_estimators=300,\n",
    "    max_depth=4,\n",
    "    learning_rate=0.05,\n",
    "    subsample=0.8,\n",
    "    colsample_bytree=0.7,\n",
    "    random_state=42\n",
    ")\n",
    "\n",
    "best_xgb_model.fit(X_train, y_train)\n",
    "\n",
    "y_pred = best_xgb_model.predict(X_test)\n",
    "\n",
    "r2 = r2_score(y_test, y_pred)\n",
    "rmse = np.sqrt(mean_squared_error(y_test, y_pred))\n",
    "mae = mean_absolute_error(y_test, y_pred)\n",
    "\n",
    "print(f'R2 Score: {r2:.4f}')\n",
    "print(f'RMSE: {rmse:.4f}')\n",
    "print(f'MAE: {mae:.4f}')"
   ]
  }
 ],
 "metadata": {
  "colab": {
   "authorship_tag": "ABX9TyNAyVs5eSc6v1MSx9wVbWCJ",
   "mount_file_id": "1gZwUv_zwIqBfAgGMkSgmUnELGkPUNo_2",
   "provenance": []
  },
  "kernelspec": {
   "display_name": "Python 3",
   "name": "python3"
  },
  "language_info": {
   "codemirror_mode": {
    "name": "ipython",
    "version": 3
   },
   "file_extension": ".py",
   "mimetype": "text/x-python",
   "name": "python",
   "nbconvert_exporter": "python",
   "pygments_lexer": "ipython3",
   "version": "3.10.10"
  }
 },
 "nbformat": 4,
 "nbformat_minor": 0
}
